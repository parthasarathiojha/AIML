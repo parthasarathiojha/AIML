{
 "cells": [
  {
   "cell_type": "code",
   "execution_count": 1,
   "metadata": {
    "collapsed": true
   },
   "outputs": [
    {
     "name": "stdout",
     "output_type": "stream",
     "text": [
      "Collecting PyPDF2\n",
      "  Downloading https://files.pythonhosted.org/packages/b4/01/68fcc0d43daf4c6bdbc6b33cc3f77bda531c86b174cac56ef0ffdb96faab/PyPDF2-1.26.0.tar.gz (77kB)\n",
      "Building wheels for collected packages: PyPDF2\n",
      "  Building wheel for PyPDF2 (setup.py): started\n",
      "  Building wheel for PyPDF2 (setup.py): finished with status 'done'\n",
      "  Created wheel for PyPDF2: filename=PyPDF2-1.26.0-cp37-none-any.whl size=61091 sha256=55ed2b6ff377b01539acda912780a2b0606dd7ccb0c07baf1833bfe612d4f4d2\n",
      "  Stored in directory: C:\\Users\\Navya\\AppData\\Local\\pip\\Cache\\wheels\\53\\84\\19\\35bc977c8bf5f0c23a8a011aa958acd4da4bbd7a229315c1b7\n",
      "Successfully built PyPDF2\n",
      "Installing collected packages: PyPDF2\n",
      "Successfully installed PyPDF2-1.26.0\n"
     ]
    }
   ],
   "source": [
    "!pip install PyPDF2\n",
    "!pip install nltk"
   ]
  },
  {
   "cell_type": "code",
   "execution_count": 4,
   "metadata": {},
   "outputs": [],
   "source": [
    "import PyPDF2 \n",
    "\n",
    "from nltk.tokenize import word_tokenize\n",
    "from nltk.corpus import stopwords"
   ]
  },
  {
   "cell_type": "code",
   "execution_count": 6,
   "metadata": {},
   "outputs": [],
   "source": [
    "filename = \"f:\\\\others\\\\SureshReddy.pdf\"\n",
    "pdfFileObj = open(filename,'rb')\n",
    "pdfReader = PyPDF2.PdfFileReader(pdfFileObj)"
   ]
  },
  {
   "cell_type": "code",
   "execution_count": 8,
   "metadata": {},
   "outputs": [
    {
     "name": "stdout",
     "output_type": "stream",
     "text": [
      "8\n"
     ]
    }
   ],
   "source": [
    "num_pages = pdfReader.numPages\n",
    "count = 0\n",
    "text = \"\"\n",
    "print(num_pages)\n",
    "#The while loop will read each page.\n",
    "while count < num_pages:\n",
    "    pageObj = pdfReader.getPage(count)\n",
    "    count +=1\n",
    "    text += pageObj.extractText()"
   ]
  },
  {
   "cell_type": "code",
   "execution_count": 9,
   "metadata": {},
   "outputs": [],
   "source": [
    "tokens = word_tokenize(text)\n",
    "punctuations = ['(',')',';',':','[',']',',']\n",
    "stop_words = stopwords.words('english')\n",
    "keywords = [word for word in tokens if not word in stop_words and not word in punctuations]"
   ]
  },
  {
   "cell_type": "code",
   "execution_count": 10,
   "metadata": {},
   "outputs": [
    {
     "name": "stdout",
     "output_type": "stream",
     "text": [
      "['SURESH', 'REDDY', 'Flat', '#', '31010', 'Block', '3A', '1st', 'Floor', 'Janapriya', 'Utopia', 'Ph', '+91', '9000', '111', '935', 'Attapur', 'Hyderguda', 'X', 'Roads', 'Email', 'suresh.reddy', '@', 'wellsfargo.com', 'Hyderabad', '500048', '.', 'Summary', 'Around', '14', 'years', 'experience', 'designing', 'developing', 'maintaining', 'software', 'solutions', 'banking', 'insurance', 'automobile', 'supply', 'chain', 'retail', 'domains', '.', 'Participated', 'invention', 'challenges', 'contributed', 'patents', 'program', '.', '5', 'ideas', 'mine', 'pat', 'ent', 'process', 'IDF', 'approved', 'Performed', 'PoCs', 'social', 'messaging', 'usage', 'NFC', 'stores', 'Augmented', 'Reality', 'loans', 'Created', 'reference', 'architecture', 'Alerts', 'platform', 'majorly', 'contributed', 'Alerts', 'Express', 'application', 'aimed', 'high', 'availability', 'Designed', 'reviewed', 'Ab', 'Initio', 'batch', 'processing', 'Alerts', 'improve', 'SLA', 'Evaluated', 'inventions', 'submitted', 'various', 'vendors', 'context', 'Wells', 'Fargo', 'Proficient', 'Java/J2EE', 'Web', 'technologies', 'Oracle', 'PL/SQL', '.', 'Good', 'implementing', 'various', 'integration', 'technolog', 'ies', 'like', 'Web', 'services', 'MQ', 'Batch', '.', 'Imparted', 'training', 'team', 'members', 'various', 'technologies', '.', 'Setup', 'java', 'community', 'help', 'community', 'members', 'get', 'certified', 'discuss/resolve', 'issues', '.', 'Handled', 'team', '13', 'people', 'technical', 'lead', '.', 'Strong', 'knowled', 'ge', 'Gang', 'Of', 'Four', 'J2EE', 'design', 'patterns', 'Working', 'exposure', 'Extreme', 'Programming', 'XP', 'principles', '.', 'Have', 'experience', 'capturing', 'functional', 'requirements', 'international', 'clients', 'US', 'South', 'Africa', 'designing', 'technical', 'solutions', '.', 'Developed', '-', 'house', 'tools', 'improve', 'mundane', 'tasks', 'u', 'sing', 'GWT', '.', 'Participated', 'answering', 'technical', 'design', 'part', 'Request', 'Proposal', 'RFP', 'Proof', 'Concept', 'POC', '.', 'Excellent', 'debugging', 'problem', 'solving', 'skills', '.', 'Performed', 'code', 'reviews', 'others', 'work', '.', 'Interviewing', 'people', 'team', 'member', 'positions', '.', 'Experience', 'Hist', 'ory', 'Working', 'Wells', 'Fargo', 'India', 'Solutions', 'Hyderabad', 'Application', 'Architect', '4', 'years', '8', 'months', 'Feb', '2011', 'Till', 'Date', '.', 'Worked', 'Computer', 'Sciences', 'Corporation', 'CSC', 'Hyderabad', 'Associate', 'Technical', 'Architect', '3.5', 'years', 'May', '2007', 'Feb', '20', '11', '.', 'Worked', 'CMC', 'Limited', 'Hyderabad', 'Senior', 'IT', 'Engineer', '5.6', 'years', 'November', '2001', 'April', '2007', '.', 'Certifications', 'Sun', 'Certified', 'Java', 'Programmer', 'SCJP', '5.0', 'Sun', 'Certified', 'Web', 'Component', 'Developer', 'SCWCD', '5', 'Sun', 'Certified', 'Business', 'Component', 'Developer', 'SCBCD', '5', 'Education', 'Master', 'Computer', 'Applications', 'MCA', '1998', '-', '2001', 'Jawaharlal', 'Nehru', 'Technological', 'University', 'Engineering', 'College', 'JNTU', 'Anantapur', '86', '%', '.', 'Skill', 'Summary', 'Languages', 'Java', 'Visual', 'Basic', '6.0', 'Unix', 'Shell', 'scripting', 'Database', 'Technologies/Tools', 'Oracle', 'PL', '/SQL', 'SQL', 'Developer', 'TOAD', 'Modeling', 'Language', 'UML', 'Modeling', 'Tools', 'Enterprise', 'Architect', 'Web', 'Technologies', 'J2EE', 'JSP', 'Servlets', 'JDBC', 'EJB', '3.0', 'Web', 'Services', 'Struts', 'JUnit', 'UML', 'JavaScript', 'AJAX', 'log4j', 'Ant', 'JConsole', 'JNDI', 'XML', 'Spring', 'Hibernate', 'GWT', 'node.js', 'Mobile', 'Technologies', 'Android', 'Integration', 'technologies', 'Web', 'services', 'MQ', 'Batch', 'Application', 'Servers', 'JBoss', 'Weblogic', 'Tomcat', 'IDEs', 'Eclipse', 'Android', 'Studio', 'Visual', 'Studio', 'Operatin', 'g', 'Systems', 'Windows', 'Unix', 'Passport/Visa', 'Details', 'Passport', 'Number', 'B1901740', 'Visa', 'US', 'B1', 'Visa', 'valid', 'April', '2018', '.', 'Projects', 'Profile', 'Organization', 'Wells', 'Fargo', 'India', 'Solutions', 'Wells', 'Fargo', 'provider', 'f', 'banking', 'mortgage', 'investing', 'credit', 'card', 'insurance', 'consumer', 'commercial', 'financial', 'services', '.', 'Wells', 'Fargo', 'India', 'Solution', 'captive', 'unit', 'Wells', 'Fargo', 'Bank', 'USA', '.', 'Platform', 'Alerts', 'Next', 'Gen', 'ANG', 'Description', 'As', 'provider', 'various', 'financial', 'services', 'Wells', 'Fargo', 'demanding', 'messaging', 'alerts', 'needs', '.', 'Alerts', 'means', 'let', 'customers', 'know', 'important', 'information', 'customer', 'interested', 'interact', 'bank', '.', 'Alerts', 'Next', 'Gen', 'platform', 'meets', 'needs', '.', 'Various', 'Line', 'Businesses', 'interface', 'platform', 'via', 'MQ', 'Web', 'services', 'Batch', 'files', '.', 'The', 'platform', 'capable', 'meeting', 'stringent', 'SLAs', '.', 'Role', 'Application', 'Architect', 'Responsibilities', 'Identify', 'issues', 'aler', 'ts', 'platform', 'Design', 'solve', 'problems', 'perform', 'PoCs', '.', 'Technologies', 'Java', 'Spring', 'MQ', 'Spring', 'WS', 'Spring', 'JMS', 'Ab', 'Initio', 'Oracle', 'Duration', 'Feb', '2015', 'Till', 'Date', '.', 'Platform', 'CCSSP', 'Cross', 'Channel', 'Sales', 'Servicing', 'Platform', 'Description', 'This', 'p', 'latform', 'helps', 'various', 'lines', 'business', 'sell', 'products', 'online', '.', 'This', 'comprises', 'various', 'applications', '.', 'The', 'primary', 'application', 'Online', 'Application', 'Status', '.', 'After', 'customers/prospects', 'apply', 'various', 'products', 'via', 'online', 'abe', 'track', 'th', 'e', 'status', 'application', 'using', '.', 'Role', 'Application', 'Architect', 'Responsibilities', 'Study', 'Online', 'Application', 'Status', 'Online', 'Sales', 'Marketing', 'Platform', '.', 'Design', 'integration', 'two', 'systems', '.', 'Technologies', 'Java', 'Spring', 'MQ', 'Spring', 'JMS', 'Spring', 'Batch', 'Oracle', 'Duration', 'Feb', '2014', 'Jan', '2015', '.', 'Platform', 'Alerts', 'Next', 'Gen', 'ANG', 'Description', 'Explained', '.', 'Role', 'Technology', 'Lead', 'Responsibilities', 'Participate', 'design', 'implementation', '.', 'Code', 'reusable', 'components', '.', 'Technologies', 'Java', 'Spring', 'MQ', 'Spring', 'WS', 'Spring', 'JMS', 'Spring', 'Batch', 'Oracle', 'Duration', 'Mar', '2011', 'Jan', '2014', 'Organization', 'CSC', 'Client', 'Kroger', 'USA', 'Kro', 'ger', 'business', 'American', 'retail', 'supermarket', 'chain', '.', 'It', 'retail', 'stores', 'various', 'business', 'areas', 'like', 'pharmacies', 'jewelry', 'food', '.', 'It', 'owns', 'around', '2000', 'pharmacy', 'stores', 'across', 'USA', '.', 'The', 'Kroger', 'EPRN', 'Enterprise', 'Pharmacy', 'Retail', 'Network', 'applicat', 'ion', 'distributed', 'application', 'enables', 'pharmacist', 'process', 'prescriptions', 'issued', 'prescriber', '.', 'Application', 'Name', 'EPRN', 'Ordering', 'Description', 'In', 'due', 'course', 'inventory', 'products', 'fall', 'defined', 'threshold', 'levels', 'rdered', 'warehouse', 'systems', 'based', 'schedules', 'sent', 'external', 'legacy', 'systems', '.', 'These', 'schedules', 'dynamic', 'nature', '.', 'This', 'ordering', 'performed', 'centralized', 'server', '.', 'The', 'ordering', 'part', 'includes', 'identifying', 'low', 'inventory', 'items', 'create', 'purc', 'hase', 'order', 'send', 'warehouse', '.', 'If', 'adjustments', 'received', 'warehouse', 'system', 'adjustments', 'updated', 'ordered', 'PO', '.', 'Finally', 'PO', 'received', 'new', 'inventory', 'would', 'reflected', 'stores', '.', 'Role', 'Architect', 'Responsibilities', 'Capturing', 'requirements', 'Design', 'Coding', '.', 'Technologies', 'Java', 'Quartz', 'Scheduler', 'Struts', 'JSP', 'Hibernate', 'Spring', 'Oracle', 'Duration', 'April', '2010', 'June', '2010', '.', 'Application', 'Name', 'EPRN', 'POS', 'Interface', 'Description', 'This', 'interface', 'wri', 'tten', 'communicate', 'Point', 'Of', 'Sale', 'terminals', 'EPRN', 'application', '.', 'When', 'prescription', 'gets', 'sold', 'patient', 'part', 'amount', 'paid', 'third', 'party', 'insurer', '.', 'The', 'remaining', 'part', 'called', 'co', '-', 'pay', 'amount', 'paid', 'patient', '.', 'EPRN', 'appli', 'cation', 'prints', 'bar', '-', 'code', 'receipt', 'drugs', 'issued', 'patient', '.', 'The', 'bar', '-', 'code', 'receipt', 'co', '-', 'pay', 'amount', '.', 'Patient', 'go', 'POS', 'terminal', 'pay', 'co', '-', 'pay', 'amount', '.', 'These', 'transactions', 'get', 'reflected', 'enterprise', 'financials', 'information', 'sent', 'back', 'EPRN', '.', 'Role', 'Architect', 'Responsibilities', 'Capturing', 'requirements', 'Design', 'Coding', '.', 'Technologies', 'Java', 'Store', 'Intégration', 'Framework', 'SIF', 'Oracle', 'Duration', 'June', '2010', 'July', '2010', '.', 'Application', 'Name', 'EPRN', 'Web', 'Description', 'EPRN', 'Web', 'application', 'interact', 'patients', '.', 'Patients', 'register', 'see', 'previously', 'filled', '-', 'prescriptions', 'refill', 'prescriptions', 'online', '.', 'Role', 'Architect', 'Responsibilities', 'Capturing', 'requirements', 'Design', 'Coding', '.', 'Technologies', 'Java', 'Spring', 'MVC', 'Hibernate', 'Oracle', 'Duration', 'August', '2010', 'till', 'date', '.', 'Organization', 'CSC', 'Client', 'Delphi', 'Automotives', 'USA', 'Delphi', 'leading', 'global', 'supplier', 'mobile', 'electronics', 'transportation', 'systems', 'including', 'power', 'train', 'safety', 'steering', 'thermal', 'controls', '&', 'security', 'systems', 'electrical/electronic', 'architecture', '-', 'car', 'entertainment', 'technologies', '.', 'Application', 'Name', 'Problem', 'Solver', 'Description', 'The', 'Delphi', 'Problem', 'Sol', 'ver', 'provides', 'means', 'Customer', 'organization', 'report', 'track', 'effectively', 'resolve', 'problems', '.', 'It', 'enables', 'notification', 'workflow', 'document', 'sharing', 'Customer', 'Suppliers', '.', 'Problem', 'Solver', 'supports', 'needs', 'Customer', 'organization', 'manage', 'resolve', 'non', '-', 'conforming', 'products', 'services', 'received', 'supply', 'base', '.', 'It', 'allows', 'Supplier', 'organization', 'view', 'respond', 'Non', '-', 'Conformance', 'Problem', 'Cases', 'manage', 'problem', 'analysis', 'implementation', 'permanent', 'corrective', 'acti', 'ons', '.', 'Role', 'Architect/Lead', 'Developer', 'Responsibilities', 'Requirements', 'gathering', 'Technical', 'Design', 'Coding', 'Testing', '.', 'Technologies', 'JSP', 'Servlets', 'Struts', 'EJB', 'Spring', 'Hibernate', '3', 'JBoss', 'Oracle', '.', 'Duration', 'August', '2007', 'December', '2008', '.', 'Application', 'Name', 'WebEDI', 'Description', 'The', 'Web', 'EDI', 'application', 'provide', 'way', 'Delphi', 'suppliers', 'exchange', 'production', 'fo', 'recast', 'production', 'ship', 'release', 'ship', 'notification', 'information', 'electronically', '.', 'Small', 'medium', '-', 'sized', 'suppliers', 'able', 'use', 'standard', 'web', 'browser', 'Internet', 'receive', 'send', 'information', 'thereby', 'requiring', 'expensive', 'inves', 'tment', 'traditional', 'EDI', 'technologies', '.', 'This', 'application', 'also', 'provides', 'ability', 'print', 'bar', '-', 'code', 'labels', 'product', 'shipments', '.', 'This', 'application', 'interacts', 'SAP', 'system', 'Cross', 'worlds', '.', 'Role', 'Architect/Lead', 'Developer', 'Responsibilities', 'Capturing', 'requirements', 'Design', 'Coding', '.', 'Technologies', 'JSP', 'Servlets', 'EJB', 'Struts', 'Hibernate', '3', 'Spring', 'Weblogic', 'Oracle', 'Duration', 'December', '2007', 'December', '2008', '.', 'Application', 'Name', 'Integrated', 'Quote', 'Request', 'Form', 'iQRF', 'Description', 'The', 'iQRF', 'application', 'use', 'regions', 'Delphi', 'submitting', 'direct', 'material', 'requests', 'online', 'Product/Project', 'teams', 'Global', 'Supply', 'Management', '.', 'The', 'online', 'capability', 'provides', 'users', 'access', 'electronically', 'attached', 'prints', 'required', 'documents', 'ingle', 'source', '.', 'The', 'data', 'entered', 'engineers', 'iQRF', 'application', 'manually', '.', 'This', 'information', 'used', 'applications', 'proceed', 'procurement', 'obtaining', 'necessary', 'approvals', '.', 'Role', 'Architect/Lead', 'Developer', 'Responsibilities', 'Captu', 'ring', 'requirements', 'Design', 'Coding', '.', 'Technologies', 'JSP', 'Servlets', 'EJB', '3.0', 'Struts', 'JBoss', 'Oracle', 'Duration', 'June', '2008', 'March', '2010', '.', 'Organization', 'TCS', 'Client', 'Sanlam', 'Life', 'Insurance', 'South', 'Africa', 'Sanlam', 'provides', 'financial', 'solutions', 'individual', 'institutional', 'clients', '.', 'These', 'solutions', 'include', 'individual', 'group', 'short', '-', 'term', 'insurance', 'personal', 'financial', 'services', 'estate', 'planning', 'trust', 'home', 'personal', 'loans', 'savings', 'linked', 'products', 'investment', 'asset', 'management', 'property', 'asset', 'management', 'stockbroking', 'risk', 'management', 'capital', 'market', 'activities', '.', 'Application', 'Name', 'LamdaWeb', '-', 'New', 'Business', 'Description', 'LamdaWeb', 'web', 'based', 'life', 'insurance', 'policy', 'administration', 'system', '.', 'It', 'primarily', 'three', 'modules', 'viz', '.', 'New', 'Business', 'Premiums', '&', 'Investments', 'Exits', '.', 'It', 'also', 'interfaces', 'underwriting', 'legacy', 'systems', '.', 'The', 'life', 'insurance', 'products', 'cater', 'risk', 'well', 'savings', '.', 'I', 'involved', 'New', 'Business', 'module', '.', 'This', 'module', 'captures', 'information', 'customer', 'policy', '.', 'This', 'involves', 'issuing', 'quotation', 'underwriting', 'application', 'issuing', 'plan', 'alterations', 'plan', '.', 'Role', 'Application', 'Developer', 'Res', 'ponsibilities', 'Coding', 'Unit', 'testing', 'Technologies', 'JSP', 'Servlets', 'EJB', 'Struts', 'JBoss', 'Oracle', 'Web', 'Services', 'Duration', 'February', '2005', 'August', '2006', '.', 'Organization', 'CMC', 'Limited', 'Clients', 'United', 'Western', 'Bank', 'India', 'Nat', 'ional', 'Bank', 'Of', 'Bahrain', 'Bahrain', 'United', 'Western', 'Bank', 'National', 'Bank', 'Bahrain', 'provide', 'retail', 'banking', 'services', 'client', '.', 'A', 'retail', 'banking', 'solution', 'called', 'TC/4', 'used', 'branches', 'banks', '.', 'TC/4', 'state', '-', '-', '-', 'art', 'Centralized', 'Core', 'Bankin', 'g', 'Solution', 'provides', 'truly', 'integrated', 'enterprise', '-', 'wide', 'platform', 'fulfills', 'dynamic', 'challenging', 'banking', 'requirements', 'e', '-', 'age', '.', 'Salient', 'features', 'include', 'multi', '-', 'currency', 'multi', '-', 'lingual', '24X7availability', '.', 'It', 'based', 'n', '-', 'tier', 'client', '/', 'erver', 'architecture', 'Application', 'TC/4', 'Wise', 'Banking', 'Description', 'W', 'eb', 'I', 'nterface', 'Se', 'cure', 'Banking', 'secure', 'web', 'based', 'banking', 'interface', 'TC/4', 'banking', 'system', '.', 'It', 'provides', 'users', 'balance', 'inquiry', 'check', 'status', 'inquiry', 'transfer', 'funds', 'within', 'bank', '.', 'Role', 'Application', 'Developer', 'Responsibilities', 'Coding', 'Maintenance', 'Uni', 'testing', 'Technologies', 'JSP', 'Servlets', 'EJB', 'XML', 'Weblogic', 'Oracle', 'Duration', 'March', '2003', 'January', '2005', '.', 'Project', 'Name', 'Test', 'Problem', 'Report', 'TPR', 'Description', 'TPR', 'utility', 'developed', 'create', 'track', 'defects', 'testing', 'application', 'application', 'used', 'production', 'environment', '.', 'The', 'status', 'defect', 'moves', 'Open', 'Closed', 'intermediate', 'stages', '.', 'This', 'tool', 'used', 'extensively', 'testing', 'team', 'client', '.', 'Role', 'Senior', 'Developer', 'Responsibilities', 'Coding', 'Maintenance', 'Unit', 'testing', 'Technologies', 'JSP', 'Servlets', 'EJB', 'Struts', 'JBoss', 'Oracle', 'Duration', 'February', '2002', 'November', '2003', '.', 'Project', 'Name', 'Servi', 'ce', 'Branch', 'Description', 'Service', 'branch', 'bank', 'handles', 'clearing', 'instruments', 'Cheques', 'DDs', 'etc', '.', 'presented', 'branches', '.', 'The', 'TC/4', 'Service', 'branch', 'supports', 'functionality', 'clearing', 'instruments', 'clearing', 'house', '.', 'The', 'web', 'interface', 'ows', 'branches', 'upload', 'instruments', 'information', 'service', 'branch', '.', 'The', 'service', 'branch', 'consolidates', 'data', 'sends', 'resultant', 'file', 'clearing', 'house', '.', 'The', 'service', 'branch', 'also', 'prepares', 'files', 'branch', 'financial', 'entries', 'pos', 'ted', '.', 'These', 'files', 'placed', 'directory', 'TC/4', 'centralized', 'server', 'posted', 'respective', 'accounts', '.', 'The', 'status', 'financials', 'later', 'checked', 'application', '.', 'Role', 'Senior', 'Developer', 'Responsibilities', 'Coding', 'Maint', 'enance', 'Unit', 'testing', 'Technologies', 'JSP', 'Servlets', 'EJB', 'Struts', 'JBoss', 'Oracle', 'Duration', 'July', '2003', 'April', '2005', '.', 'Project', 'Name', 'MIS', 'Reports', 'Description', 'MIS', 'acronym', 'Management', 'Information', 'System', 'provides', 'management', 'required', 'information', 'making', 'right', 'decisions', '.', 'OLTP', 'systems', 'store', 'recent', 'data', 'purge', 'unnecessary', 'data', '.', 'However', 'decision', 'making', 'management', 'anal', 'yze', 'past', 'data', 'predict', 'future', '.', 'So', 'data', 'extracted', 'data', 'warehousing', 'database', 'reports', 'generated', 'data', 'warehouse', '.', 'The', 'extraction', 'data', 'involves', 'three', 'phases', 'namely', 'Extraction', 'Transformation', 'Loading', '.', 'MIS', 'module', 'ETL', 'generates', 'reports', 'required', 'management', '.', 'These', 'reports', 'accessible', 'management', 'via', 'web', 'interface', '.', 'The', 'reports', 'requested', 'generation', 'downloaded', 'application', 'management', '.', 'Role', 'Senior', 'Developer', 'Responsibilities', 'Codin', 'g', 'Unit', 'testing', 'Technologies', 'JSP', 'Servlets', 'Struts', 'Tomcat', 'PL/SQL', 'Duration', 'September', '2006', 'April', '2007', '.', 'Project', 'Name', 'Data', 'Conversion', 'Tool', 'Description', 'This', 'task', 'involves', 'converting', 'Data', 'Legacy', 'system', 'TC4', '.', 'This', 'important', 'task', 'ata', 'legacy', 'system', 'required', 'new', 'system', 'setup', 'new', 'system', '.', 'The', 'files', 'generated', 'legacy', 'system', 'uploaded', 'application', '.', 'Application', 'primary', 'analysis', 'data', 'format', 'throws', 'validation', 'errors', '.', 'Once', 'data', 'loaded', 'status', 'data', 'load', 'checked', 'application', '.', 'Role', 'Lead', 'Developer', 'Responsibilities', 'Coding', 'Unit', 'testing', 'Technologies', 'JSP', 'Servlets', 'Struts', 'Tomcat', 'Oracle', 'Duration', 'September', '2004', 'March', '2005', '.']\n"
     ]
    }
   ],
   "source": [
    "print(keywords)"
   ]
  }
 ],
 "metadata": {
  "kernelspec": {
   "display_name": "Python 3",
   "language": "python",
   "name": "python3"
  },
  "language_info": {
   "codemirror_mode": {
    "name": "ipython",
    "version": 3
   },
   "file_extension": ".py",
   "mimetype": "text/x-python",
   "name": "python",
   "nbconvert_exporter": "python",
   "pygments_lexer": "ipython3",
   "version": "3.7.4"
  },
  "toc": {
   "base_numbering": 1,
   "nav_menu": {},
   "number_sections": true,
   "sideBar": true,
   "skip_h1_title": false,
   "title_cell": "Table of Contents",
   "title_sidebar": "Contents",
   "toc_cell": false,
   "toc_position": {},
   "toc_section_display": true,
   "toc_window_display": false
  },
  "varInspector": {
   "cols": {
    "lenName": 16,
    "lenType": 16,
    "lenVar": 40
   },
   "kernels_config": {
    "python": {
     "delete_cmd_postfix": "",
     "delete_cmd_prefix": "del ",
     "library": "var_list.py",
     "varRefreshCmd": "print(var_dic_list())"
    },
    "r": {
     "delete_cmd_postfix": ") ",
     "delete_cmd_prefix": "rm(",
     "library": "var_list.r",
     "varRefreshCmd": "cat(var_dic_list()) "
    }
   },
   "types_to_exclude": [
    "module",
    "function",
    "builtin_function_or_method",
    "instance",
    "_Feature"
   ],
   "window_display": false
  }
 },
 "nbformat": 4,
 "nbformat_minor": 2
}
