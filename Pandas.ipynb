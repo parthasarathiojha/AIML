{
 "cells": [
  {
   "cell_type": "code",
   "execution_count": null,
   "metadata": {
    "ExecuteTime": {
     "end_time": "2020-04-04T04:53:55.180371Z",
     "start_time": "2020-04-04T04:53:48.173165Z"
    }
   },
   "outputs": [],
   "source": [
    "import pandas as pd"
   ]
  },
  {
   "cell_type": "code",
   "execution_count": null,
   "metadata": {
    "ExecuteTime": {
     "end_time": "2020-04-04T04:53:56.314565Z",
     "start_time": "2020-04-04T04:53:56.302573Z"
    }
   },
   "outputs": [],
   "source": [
    "songs = pd.Series(['ss', 'xx', 'yy', None], name='something')\n",
    "songs.count()"
   ]
  },
  {
   "cell_type": "code",
   "execution_count": null,
   "metadata": {},
   "outputs": [],
   "source": [
    "print(songs[0])\n",
    "songs.index"
   ]
  },
  {
   "cell_type": "code",
   "execution_count": null,
   "metadata": {},
   "outputs": [],
   "source": [
    "songs3 = pd.Series([145, 142, 38, 13],\n",
    "                   name='counts',\n",
    "                   index=['Paul', 'John', 'George', 'Ringo'])\n",
    "songs3[1]"
   ]
  },
  {
   "cell_type": "code",
   "execution_count": null,
   "metadata": {},
   "outputs": [],
   "source": [
    "mask = songs3 > songs3.median()\n",
    "mask\n",
    "# songs3[songs3 > songs3.median()]"
   ]
  },
  {
   "cell_type": "code",
   "execution_count": null,
   "metadata": {},
   "outputs": [],
   "source": [
    "george_dupe = pd.Series([10, 7, 1, 22],\n",
    "                        index=['1968', '1969', '1970', '1970'],\n",
    "                        name='George Songs')"
   ]
  },
  {
   "cell_type": "code",
   "execution_count": null,
   "metadata": {},
   "outputs": [],
   "source": [
    "george_dupe['1970']"
   ]
  },
  {
   "cell_type": "markdown",
   "metadata": {},
   "source": [
    "# to iterate over series elements - for both index and value"
   ]
  },
  {
   "cell_type": "code",
   "execution_count": null,
   "metadata": {},
   "outputs": [],
   "source": []
  },
  {
   "cell_type": "code",
   "execution_count": null,
   "metadata": {},
   "outputs": [],
   "source": [
    "for item, val in george_dupe.iteritems():\n",
    "    print(item, val)\n",
    "\n",
    "for curItem in george_dupe.iteritems():\n",
    "    print(curItem[0], curItem[1])\n",
    "\n",
    "    "
   ]
  },
  {
   "cell_type": "markdown",
   "metadata": {},
   "source": [
    "# If we just want to iterate over values but not index"
   ]
  },
  {
   "cell_type": "code",
   "execution_count": null,
   "metadata": {
    "code_folding": []
   },
   "outputs": [],
   "source": [
    "for item in george_dupe:\n",
    "    print(item)\n",
    "\n",
    "for item in george_dupe.keys():\n",
    "    print(item)\n",
    "\n",
    "    "
   ]
  },
  {
   "cell_type": "markdown",
   "metadata": {},
   "source": [
    "Arithmetic:\n",
    "python list when multiplied by scalar repeats the elements twice. \n",
    "Whereas with numpy and pandas, it multiplies each element by 2. To do this with lists, we need to use list comprehension.  "
   ]
  },
  {
   "cell_type": "code",
   "execution_count": null,
   "metadata": {},
   "outputs": [],
   "source": [
    "x = pd.Series([1,2,3])\n",
    "x//2"
   ]
  },
  {
   "cell_type": "code",
   "execution_count": null,
   "metadata": {},
   "outputs": [],
   "source": [
    "If series is created with an index, For the None elements in at least one series, it results in Nan\n",
    "To get rid of this, we can use fillna"
   ]
  },
  {
   "cell_type": "code",
   "execution_count": null,
   "metadata": {},
   "outputs": [],
   "source": [
    "x = pd.Series([10, 7, 1, None],\n",
    "              index=['1968', '1969', '1970', '1971'],\n",
    "              name='George Songs 1')\n",
    "\n",
    "y = pd.Series([100, 70, 10, 220],\n",
    "              index=['1968', '1969', '1970', '1971'],\n",
    "              name='George Songs 2')\n",
    "\n",
    "x + y\n",
    "\n",
    "x.fillna(0) + y.fillna(0)\n",
    "\n",
    "y > 10\n",
    "\n",
    "y[y > 10]\n",
    "\n",
    "x < y"
   ]
  },
  {
   "cell_type": "markdown",
   "metadata": {},
   "source": [
    "# Access elements"
   ]
  },
  {
   "cell_type": "markdown",
   "metadata": {},
   "source": [
    "Use direct bracket syntax\n",
    "get method that provides default value\n",
    "get_value method that raises exception when value is not found : This is deprecated. use .at[] or .iat\n",
    ".iat is for numeric index (below the length of the index.. this is not the series index we defined while creation)\n",
    "use dot syntax for which the index follows proper naming convention"
   ]
  },
  {
   "cell_type": "code",
   "execution_count": null,
   "metadata": {},
   "outputs": [],
   "source": [
    "\n",
    "songs_66 = pd.Series([3, None , 11, 9, 33],\n",
    "index=['George', 'Ringo', 'John',  '9999','John' ],\n",
    "name='Counts')\n",
    "\n",
    "print('dot access', songs_66.George)\n",
    "# songs_66.9999 --This wont work\n",
    "print('index access' ,songs_66['John'])\n",
    "# songs_66.get_value('ddd') -- throws IndexError\n",
    "# songs_66.get_value('Ringo') --This is deprecated\n",
    "print('at',songs_66.at['John'])\n",
    "print('iat',songs_66.iat[2])\n",
    "print('get', songs_66.get('ddd','does not exist'))\n"
   ]
  },
  {
   "cell_type": "markdown",
   "metadata": {},
   "source": [
    "# Update values in Series\n",
    "\n",
    "at will update the value in place: also this will update all values with the same key name\n",
    "if we want to update only one value out of all the keys, use iloc\n",
    "if the key is not present, a new entry will be added\n",
    "or we can just use index\n"
   ]
  },
  {
   "cell_type": "code",
   "execution_count": null,
   "metadata": {
    "code_folding": []
   },
   "outputs": [],
   "source": [
    "print(songs_66)\n",
    "positions = [pos for pos, x in enumerate(songs_66.iteritems()) \\\n",
    "    if x[0] == 'John']\n",
    "print(positions)\n",
    "\n",
    "songs_66[positions] = 0  # using index\n",
    "songs_66['9999'] = '999'\n",
    "songs_66.at['Ringo'] =   20 \n",
    "songs_66.iat[2] = 55\n",
    "songs_66\n",
    "\n",
    "# songs_66.set_value('John', 20) Deprecated"
   ]
  },
  {
   "cell_type": "markdown",
   "metadata": {},
   "source": [
    "## Reset_index\n",
    "By default, the .reset_index method will return a new data frame (not a series). It moves the current index values to a column named index\n",
    "\n",
    "To get a series out, pass True to the drop parameter, which will drop the\n",
    "index column\n",
    "\n",
    "We can reindex with different set of names or rename a particular index key\n"
   ]
  },
  {
   "cell_type": "code",
   "execution_count": null,
   "metadata": {},
   "outputs": [],
   "source": [
    "songs_66.reset_index()\n",
    "# songs_66"
   ]
  },
  {
   "cell_type": "code",
   "execution_count": null,
   "metadata": {},
   "outputs": [],
   "source": [
    "songs_66.reset_index(drop=True)"
   ]
  },
  {
   "cell_type": "markdown",
   "metadata": {},
   "source": [
    "# Counts\n",
    "series.count returns the count of not null values\n",
    "series.value_counts returns the counts of each value. This is useful for histogram\n"
   ]
  },
  {
   "cell_type": "code",
   "execution_count": null,
   "metadata": {},
   "outputs": [],
   "source": [
    "songs_66.iat[0] = None \n",
    "print('Count with none' , songs_66.count())  \n",
    "songs_66.iat[0] = 999 \n",
    "print('value_counts ' , songs_66.value_counts())   \n",
    "print('unique values ' , songs_66.unique()) \n",
    "print('Count of unique values' , songs_66.nunique()) \n",
    "songs_66"
   ]
  },
  {
   "cell_type": "code",
   "execution_count": null,
   "metadata": {},
   "outputs": [],
   "source": [
    "#To check if there are duplicate values in a series\n",
    "\n",
    "print('duplicate indicator ', songs_66.duplicated())\n",
    "# this returns duplicate for second duplicate entry..\n",
    "songs_66.drop_duplicates()  # drops duplicate entries\n",
    "\n",
    "# for index duplicates\n",
    "scores3 = pd.Series(\n",
    "    [67.3, 100, 96.7, None, 100, 79],\n",
    "    index=['Ringo', 'Paul', 'George', 'Peter', 'Billy', 'Paul'])\n",
    "\n",
    "scores3.groupby(scores3.index).first()  # here paul 100 is retained\n",
    "scores3.groupby(scores3.index).last()  # here paul 79 is retained"
   ]
  },
  {
   "cell_type": "markdown",
   "metadata": {},
   "source": [
    "#Statistics\n",
    "\n",
    "Most of the methods that perform a calculation ignore NaN. Some also\n",
    "provide an optional parameter—skipna—to change that behavior.\n",
    "But in practice if you do not ignore NaN, the result is nan:\n",
    ">songs_66.sum(skipna=False)\n",
    "\n",
    ">nan\n",
    "\n",
    "Mean and median ignore none values"
   ]
  },
  {
   "cell_type": "code",
   "execution_count": null,
   "metadata": {
    "ExecuteTime": {
     "end_time": "2020-04-04T04:53:38.087427Z",
     "start_time": "2020-04-04T04:53:38.074436Z"
    }
   },
   "outputs": [],
   "source": [
    "#Statistics\n",
    "songs_66[4]=None\n",
    "print(songs_66)\n",
    "print('Sum ', songs_66.sum())\n",
    "print('Mean ', songs_66.mean())\n",
    "print('Median ', songs_66.median())\n",
    "print('Median with nulls ', songs_66.median(skipna=False)) # this is of no use.. it will be null\n",
    "\n",
    "\n",
    "\n"
   ]
  },
  {
   "cell_type": "markdown",
   "metadata": {},
   "source": [
    "For non-normal distributions, the median is useful as a summary\n",
    "measure. It is more resilient to outliers.\n",
    "\n",
    "To get a good overall feel for the series, the .describe method presents\n",
    "a good number of summary statistics and returns the result as a series. It\n",
    "includes the count of values, their mean, standard deviation, minimum and\n",
    "maximum values, and the 25%, 50%, and 75% quantiles\n"
   ]
  },
  {
   "cell_type": "code",
   "execution_count": null,
   "metadata": {},
   "outputs": [],
   "source": [
    "songs_66.quantile()\n",
    "songs_66.quantile(.1)\n",
    "songs_66.describe()\n",
    "songs_66.describe(percentiles=[.05, .1, .2])\n",
    "songs_66.min()\n",
    "songs_66.idxmin()\n",
    "songs_66.max()\n",
    "songs_66.idxmax()"
   ]
  },
  {
   "cell_type": "markdown",
   "metadata": {},
   "source": [
    "Variance\n",
    "Though the minimum and maximum are interesting values, often they\n",
    "are outliers. In that case, it is useful to find the spread of the values taking\n",
    "into account the notion of outliers. Variance is one of these measures. A\n",
    "low variance indicates that most of the values are close to the mean\n",
    "\n",
    "Standard Deviation\n",
    "The square root of the variance is known as the standard deviation. This\n",
    "is also a common measure to indicate spread from the mean. In a normal\n",
    "distribution, 99% of the values will be within three standard deviations\n",
    "above and below the mean:\n",
    "\n",
    "Mean Absolute Deviation:\n",
    "Another summary statistic for describing dispersion is the mean\n",
    "absolute deviation. In pandas this is calculated by averaging the absolute\n",
    "values of the difference between the mean and the values"
   ]
  },
  {
   "cell_type": "code",
   "execution_count": null,
   "metadata": {},
   "outputs": [],
   "source": [
    "songs_66.var()"
   ]
  },
  {
   "cell_type": "code",
   "execution_count": null,
   "metadata": {},
   "outputs": [],
   "source": [
    "songs_66.std()"
   ]
  },
  {
   "cell_type": "code",
   "execution_count": null,
   "metadata": {},
   "outputs": [],
   "source": [
    "songs_66.mad()"
   ]
  },
  {
   "cell_type": "markdown",
   "metadata": {},
   "source": [
    "Skew is a summary statistic that measures how the tails behave. A\n",
    "normal distribution should have a skew around 0. A negative skew\n",
    "indicates that the left tail is longer, whereas a positive skew indicates that\n",
    "the right tail is longer."
   ]
  },
  {
   "cell_type": "code",
   "execution_count": null,
   "metadata": {},
   "outputs": [],
   "source": [
    "songs_66.skew()"
   ]
  },
  {
   "cell_type": "code",
   "execution_count": null,
   "metadata": {},
   "outputs": [],
   "source": [
    "import matplotlib.pyplot as plt\n",
    "fig = plt.figure()\n",
    "ax = fig.add_subplot(111)\n",
    "songs_66.hist(ax=ax)\n",
    "fig.savefig('song-hist.png')"
   ]
  },
  {
   "cell_type": "markdown",
   "metadata": {},
   "source": [
    "Kurtosis is a summary measure that describes how narrow the “peak” of\n",
    "is distribution is. The larger the number, the narrower the peak is.\n",
    "Normally, this value is reported alongside skew. The .kurt method returns\n",
    "nan if there are fewer than four numbers"
   ]
  },
  {
   "cell_type": "code",
   "execution_count": null,
   "metadata": {},
   "outputs": [],
   "source": [
    "songs_66.kurt()"
   ]
  },
  {
   "cell_type": "markdown",
   "metadata": {},
   "source": [
    "Covariance is a measure of how two variables change together. If they\n",
    "tend to increase together, it will be positive. If one tends to decrease while\n",
    "the other increases, it will be negative"
   ]
  },
  {
   "cell_type": "code",
   "execution_count": null,
   "metadata": {},
   "outputs": [],
   "source": [
    "songs_69 = pd.Series([18, 22, 7, 5],\n",
    " index=[ 'John', 'Paul', 'George', 'Ringo'],\n",
    " name='Counts')\n",
    "\n",
    "songs_66.cov(songs_69)\n"
   ]
  },
  {
   "cell_type": "markdown",
   "metadata": {},
   "source": [
    "When the covariance is normalized (by dividing by the standard\n",
    "deviations of both series), it is called the correlation coefficient. The .corr\n",
    "method gives the Pearson Correlation Coefficient. This value is a number\n",
    "from -1 to 1. The more positive this value is, the greater the correlation.\n",
    "The more negative it is, the greater the inverse correlation. A value of zero\n",
    "indicates no correlation:"
   ]
  },
  {
   "cell_type": "code",
   "execution_count": null,
   "metadata": {},
   "outputs": [],
   "source": [
    "songs_66.corr(songs_69)"
   ]
  },
  {
   "cell_type": "markdown",
   "metadata": {},
   "source": [
    "The autocorrelation measure describes the correlation of a series with\n",
    "itself shifted one position. 1 indicates perfect correlation, and -1 indicates\n",
    "anti-correlation. Here is another case where the sample size is small, so\n",
    "take these with a grain of salt. Note that .autocorr does not ignore NaN\n",
    "by default"
   ]
  },
  {
   "cell_type": "code",
   "execution_count": null,
   "metadata": {},
   "outputs": [],
   "source": [
    "songs_66.autocorr()\n",
    "songs_66.dropna().autocorr()"
   ]
  },
  {
   "cell_type": "markdown",
   "metadata": {},
   "source": [
    "Often, the cumulative sum of a series is needed. The .cumsum method\n",
    "provides this. In addition, there are analogous operations for cumulative\n",
    "product and cumulative minimum"
   ]
  },
  {
   "cell_type": "code",
   "execution_count": null,
   "metadata": {},
   "outputs": [],
   "source": [
    "songs_66.cumsum()\n",
    "songs_66.cumprod()\n",
    "songs_66.cummin()"
   ]
  },
  {
   "cell_type": "code",
   "execution_count": null,
   "metadata": {},
   "outputs": [],
   "source": [
    "Convert Types\n",
    "\n",
    "The series object has the ability to tweak its values. The numerical values\n",
    "in a series may be rounded up to the next whole floating point number by\n",
    "using the .round method. Note that even though the value is rounded, the type is still a float.\n",
    "\n",
    "Numbers can be clipped between lower and upper thresholds using the\n",
    ".clip method. This method does not change the type either\n",
    "\n",
    "Convert types to other data type\n",
    "songs_66.astype(str)\n",
    "\n",
    "\n",
    "ages.astype(int)  : this fails when data has null or invalid integers and even for floats\n",
    "pd.to_numeric(ages) : *SAFE* This works for floats, integers and None as well.\n",
    "pd.to_datetime: To convert to date and time\n",
    "    \n",
    "to_numeric has errors parameter that will ignore, raise or coerce the conversion\n",
    "in case of coerce, the values are set to NaN. In case of ignore, original values remain\n"
   ]
  },
  {
   "cell_type": "code",
   "execution_count": null,
   "metadata": {},
   "outputs": [],
   "source": [
    "songs_66.round()"
   ]
  },
  {
   "cell_type": "code",
   "execution_count": null,
   "metadata": {},
   "outputs": [],
   "source": [
    "songs_66.clip(lower=80, upper=90)"
   ]
  },
  {
   "cell_type": "code",
   "execution_count": null,
   "metadata": {},
   "outputs": [],
   "source": [
    "songs_66.clip(lower=80, upper=90).std()"
   ]
  },
  {
   "cell_type": "code",
   "execution_count": null,
   "metadata": {},
   "outputs": [],
   "source": [
    "songs_66.astype(str)  # now max is based on lexicographic"
   ]
  },
  {
   "cell_type": "code",
   "execution_count": null,
   "metadata": {},
   "outputs": [],
   "source": [
    "ages = pd.Series(['12','13', None, 'Hello'], index = [\"first\", \"second\", \"third\",\"fourth\"])\n",
    "# ages.astype(int)\n",
    "pd.to_numeric(ages, errors=\"coerce\")  #default values for errors is coerce as of now\n",
    "# print(pd.__version__)"
   ]
  },
  {
   "cell_type": "markdown",
   "metadata": {},
   "source": [
    "#Dealing with None\n",
    "Either we can use fillna or dropna\n",
    "we can get null array or not null array using series.isnull/notnull.\n",
    "or we can get null array and use ~array to get not null values\n",
    "\n",
    "Locating the position of the first and last valid index values is simple as\n",
    "well, using the .first_valid_index and .last_valid_index methods\n",
    "respectively:\n",
    ">>> songs_66.first_valid_index()\n",
    "'George'\n",
    ">>> songs_66.last_valid_index()\n",
    "'Paul'"
   ]
  },
  {
   "cell_type": "code",
   "execution_count": null,
   "metadata": {},
   "outputs": [],
   "source": [
    "songs_66.fillna(-1)"
   ]
  },
  {
   "cell_type": "code",
   "execution_count": null,
   "metadata": {},
   "outputs": [],
   "source": [
    "songs_66.dropna()"
   ]
  },
  {
   "cell_type": "code",
   "execution_count": null,
   "metadata": {},
   "outputs": [],
   "source": [
    "#Matrix operations\n",
    "songs_66.dot(songs_69) : Returns Nan if there is one Nan\n",
    "songs_66.dropna().dot(songs_66.dropna()) :Use this rather\n",
    "x.T or x.transpose does not have any impact on series as it is only for matrix"
   ]
  },
  {
   "cell_type": "code",
   "execution_count": null,
   "metadata": {},
   "outputs": [],
   "source": [
    "songs_66.dropna().dot(songs_66.dropna())"
   ]
  },
  {
   "cell_type": "markdown",
   "metadata": {},
   "source": [
    "#Append, combining, and joining two series\n",
    "songs_66.append(songs_69)\n",
    "\n",
    "The .append method will create duplicate indexes by default (as seen by\n",
    "the multiple entries for Paul above). .append has an optional parameter,\n",
    "verify_integrity, which when set to True to complain if index values\n",
    "are duplicated\n",
    "\n",
    "To perform element-wise operations on series, use the .combine\n",
    "method. It takes another series, and a function as its’ parameters. The\n",
    "function should accept two parameters and perform a reduction on them.\n",
    "Below is one way to compute the average of two series using .combine\n",
    "\n"
   ]
  },
  {
   "cell_type": "code",
   "execution_count": null,
   "metadata": {},
   "outputs": [],
   "source": [
    "def avg(v1, v2):\n",
    "    return (v1 + v2)/2.0"
   ]
  },
  {
   "cell_type": "code",
   "execution_count": null,
   "metadata": {},
   "outputs": [],
   "source": [
    "print(songs_66)\n",
    "print(songs_69)\n",
    "songs_66.combine(songs_69, avg)"
   ]
  },
  {
   "cell_type": "code",
   "execution_count": null,
   "metadata": {},
   "outputs": [],
   "source": [
    "songs_66.update(songs_69) #Replace values with second series in place\n",
    "songs_66"
   ]
  },
  {
   "cell_type": "markdown",
   "metadata": {},
   "source": [
    "#Sorting\n",
    "orig.sort_values()\n",
    "\n",
    "We can mention kind of sort to use\n",
    "Merge sort does not rearrange index if the value is already in right place\n",
    "Whereas other sorting algorithms move them\n",
    "we can also specific if ascending be false\n",
    "\n",
    "sort_index is another \n",
    "\n",
    "Another useful sorting related method is .rank. This method ranks the\n",
    "index by the values of the entries. It assigns equal weights for ties. It also\n",
    "supports the ascending parameter to reverse the order\n"
   ]
  },
  {
   "cell_type": "code",
   "execution_count": null,
   "metadata": {},
   "outputs": [],
   "source": [
    "s = pd.Series([2, 2, 2], index=['a2', 'a1', 'a3'])\n",
    "s.sort_values(kind='mergesort')\n",
    "s.sort_values(kind='heapsort')"
   ]
  },
  {
   "cell_type": "code",
   "execution_count": null,
   "metadata": {},
   "outputs": [],
   "source": [
    "songs_66.sort_values(ascending=False)\n",
    "songs_66"
   ]
  },
  {
   "cell_type": "code",
   "execution_count": null,
   "metadata": {},
   "outputs": [],
   "source": [
    "songs_66.sort_index()"
   ]
  },
  {
   "cell_type": "code",
   "execution_count": null,
   "metadata": {},
   "outputs": [],
   "source": [
    "songs_66.rank()"
   ]
  },
  {
   "cell_type": "markdown",
   "metadata": {},
   "source": [
    "#Processing each element\n",
    "\n",
    "Applying a function\n",
    "Often the values in a series will need to be altered, cleaned up, checked, or\n",
    "have an arbitrary function applied to them. The .map method applies a\n",
    "function to every item in the series"
   ]
  },
  {
   "cell_type": "code",
   "execution_count": null,
   "metadata": {},
   "outputs": [],
   "source": [
    "def format(x):\n",
    "    if x == 1:\n",
    "        template = '{} song'\n",
    "    else:\n",
    "        template = '{} songs'\n",
    "    return template.format(x)\n",
    "\n",
    "\n",
    "songs_66.map(format)"
   ]
  },
  {
   "cell_type": "code",
   "execution_count": null,
   "metadata": {},
   "outputs": [],
   "source": [
    "In addition to accepting a function, the .map function also accepts a\n",
    "dictionary. In that case, any value of the series matching a key in the\n",
    "dictionary will be updated to the corresponding value for the key:"
   ]
  },
  {
   "cell_type": "code",
   "execution_count": null,
   "metadata": {},
   "outputs": [],
   "source": [
    "songs_66.map({5: None,\n",
    "18.: 21,\n",
    " 22.: 23})"
   ]
  },
  {
   "cell_type": "markdown",
   "metadata": {},
   "source": [
    "Similarly, the .map will accept a series, treating it much like a\n",
    "dictionary. Any value of the series that matches the passed in index value\n",
    "will be updated to the corresponding value\n",
    "\n",
    "There is also an .apply method on the series object. It behaves very\n",
    "similar to .map, but it only works with functions (not with series nor\n",
    "dictionaries).\n"
   ]
  },
  {
   "cell_type": "code",
   "execution_count": null,
   "metadata": {},
   "outputs": [],
   "source": [
    "mapping = pd.Series({22.: 33})"
   ]
  },
  {
   "cell_type": "code",
   "execution_count": null,
   "metadata": {},
   "outputs": [],
   "source": [
    "songs_66.map(mapping)"
   ]
  },
  {
   "cell_type": "markdown",
   "metadata": {},
   "source": [
    "#write to file\n",
    "there is a provision to write a series to file or string using write_csv\n"
   ]
  },
  {
   "cell_type": "markdown",
   "metadata": {},
   "source": [
    "#String operations\n",
    "A series that has string data can be manipulated by vectorized string\n",
    "operations. Though it is possible to accomplish these same operations via\n",
    "the .map or .apply methods, prudent users will first look to see if a built-in\n",
    "method is provided. Typically, built-in methods will be faster because they\n",
    "are vectorized and often implemented in Cython, so there is less overhead.\n",
    "Using .map and .apply should be thought of as a last resort, instead of the\n",
    "first tool you reach for.\n",
    "\n",
    "To invoke the string operations, simply invoke them on the .str\n",
    "attribute of the series:"
   ]
  },
  {
   "cell_type": "code",
   "execution_count": null,
   "metadata": {},
   "outputs": [],
   "source": [
    "names = pd.Series(['George', 'John', 'Paul'])\n",
    "names.str.lower()\n",
    "names.str.len()"
   ]
  },
  {
   "cell_type": "markdown",
   "metadata": {},
   "source": [
    "#Plotting using matplotlib\n",
    "Default is line chart. \n",
    "\n",
    "These are subplot grid parameters encoded as a single integer. For example, \"111\" means \"1x1 grid, first subplot\" and \"234\" means \"2x3 grid, 4th subplot\". Alternative form for add_subplot(111) is add_subplot(1, 1, 1)\n",
    "\n",
    "If we have installed scipy.stats, we can plot a kernel density\n",
    "estimation (KDE) plot. This plot is very similar to a histogram, but rather\n",
    "than using bins to represent areas where numbers fall, it plots a curved\n",
    "line\n"
   ]
  },
  {
   "cell_type": "code",
   "execution_count": null,
   "metadata": {},
   "outputs": [],
   "source": [
    "import matplotlib.pyplot as plt\n",
    "fig = plt.figure()\n",
    "songs_69.plot()\n",
    "songs_66.plot()\n",
    "plt.legend()\n",
    "fig.savefig('/tmp/ex1.png')"
   ]
  },
  {
   "cell_type": "code",
   "execution_count": null,
   "metadata": {},
   "outputs": [],
   "source": [
    "songs_69.name =\"Names for 69\"\n",
    "songs_66.name =\"Names for 66\"\n",
    "fig = plt.figure()\n",
    "songs_69.plot(kind='bar')\n",
    "songs_66.plot(kind='bar', color='k', alpha=.5)\n",
    "plt.legend()\n",
    "fig.savefig('/tmp/ex2.png')"
   ]
  },
  {
   "cell_type": "code",
   "execution_count": null,
   "metadata": {},
   "outputs": [],
   "source": [
    "import numpy as np \n",
    "data = pd.Series(np.random.randn(500), name='500 random')\n",
    "fig = plt.figure()\n",
    "ax = fig.add_subplot(111)\n",
    "data.hist()   # or we can call ax.hist(data)\n",
    "fig.savefig('/tmp/ex3.png')"
   ]
  },
  {
   "cell_type": "code",
   "execution_count": null,
   "metadata": {},
   "outputs": [],
   "source": [
    "fig = plt.figure()\n",
    "data.plot(kind='kde') # requires scipy.stats\n",
    "fig.savefig('/tmp/ex4.png')"
   ]
  },
  {
   "cell_type": "code",
   "execution_count": null,
   "metadata": {},
   "outputs": [],
   "source": [
    "import scipy\n",
    "fig = plt.figure()\n",
    "ax = fig.add_subplot(211)\n",
    "data.plot(kind='kde', color='b', alpha=.6, ax=ax) # requires\n",
    "scipy.stats\n",
    "# normed=True is passed through to matplotlib\n",
    "data.hist(color='g', alpha=.6, ax=ax, normed=True)\n",
    "ax.set_title(\"KDE, Histogram & CDF\")\n",
    "ax = fig.add_subplot(212)\n",
    "data.hist(ax=ax, normed=True, cumulative=True)\n",
    "fig.savefig('/tmp/ex5.png')"
   ]
  },
  {
   "cell_type": "markdown",
   "metadata": {},
   "source": [
    "#DATAFRAMES\n",
    "To access a row, use iloc\n",
    "to access a column, use column name\n",
    "\n",
    "Note the type of column is a pandas Series instance. Any operation that\n",
    "can be done to a series can be applied to a column\n"
   ]
  },
  {
   "cell_type": "code",
   "execution_count": null,
   "metadata": {},
   "outputs": [],
   "source": [
    "import pandas as pd\n",
    "df = pd.DataFrame({\n",
    "'growth':[.5, .7, 1.2],\n",
    "'Name':['Paul', 'George', 'Ringo'] })\n",
    "df"
   ]
  },
  {
   "cell_type": "code",
   "execution_count": null,
   "metadata": {},
   "outputs": [],
   "source": [
    "df.iloc[2]"
   ]
  },
  {
   "cell_type": "code",
   "execution_count": null,
   "metadata": {},
   "outputs": [],
   "source": [
    "df[\"Name\"]"
   ]
  },
  {
   "cell_type": "code",
   "execution_count": null,
   "metadata": {},
   "outputs": [],
   "source": [
    "type(df['Name'])\n",
    "df['Name'].str.lower()"
   ]
  },
  {
   "cell_type": "code",
   "execution_count": null,
   "metadata": {},
   "outputs": [],
   "source": [
    "#dataframe from dictionary\n",
    "df= pd.DataFrame([\n",
    " {'growth':.5, 'Name':'Paul', 'Age' :23},\n",
    " {'growth':.7, 'Name':'George', 'Age': 45},\n",
    " {'growth':1.2, 'Name':'Ringo' , 'Age' : 56}])"
   ]
  },
  {
   "cell_type": "code",
   "execution_count": null,
   "metadata": {},
   "outputs": [],
   "source": [
    "#reading from csv\n",
    "#pd.read_csv(csv_file)\n",
    "\n",
    "#created from numpy, if column names are not specified, it will be 0,1,2\n",
    "pd.DataFrame(np.random.randn(10,3) ,  columns=['a', 'b', 'c'])"
   ]
  },
  {
   "cell_type": "code",
   "execution_count": null,
   "metadata": {},
   "outputs": [],
   "source": [
    "df.axes"
   ]
  },
  {
   "cell_type": "code",
   "execution_count": null,
   "metadata": {},
   "outputs": [],
   "source": [
    "#index is 0, column is 1\n",
    "# 0 means vertical which makes sense in 99% of the cases and default\n",
    "\n",
    "\n",
    "print(df.apply(np.sum, axis=0))\n",
    "print(df.apply(np.sum, axis=1)) #thi will fail as it cannot add string to float"
   ]
  },
  {
   "cell_type": "code",
   "execution_count": null,
   "metadata": {},
   "outputs": [],
   "source": [
    "# To view data in horizontal form\n",
    "print(df.T)\n",
    "\n",
    "# To view summary statistics\n",
    "print(df.describe())\n",
    "\n",
    "# To check if there are any duplicates\n",
    "df[\"Name\"].value_counts()\n",
    "\n",
    "# Pearson Correlation Coefficient\n",
    "df.corr()"
   ]
  },
  {
   "cell_type": "code",
   "execution_count": null,
   "metadata": {},
   "outputs": [],
   "source": [
    " fig = plt.figure()\n",
    " ax = fig.add_subplot(111)\n",
    " df.plot(ax=ax)\n",
    " fig.savefig('/tmp/df-ex2.png')"
   ]
  },
  {
   "cell_type": "code",
   "execution_count": null,
   "metadata": {},
   "outputs": [],
   "source": [
    "#Concatenate two dataframes ie., one below another. \n",
    "#if ignore_index is not set to true, the index will have duplicates\n",
    "\n",
    "df1 = pd.DataFrame({ \"first\" : (1 ,22,3) })\n",
    "df2 = pd.DataFrame({ \"first1\" : (4 ,5,6) })\n",
    "df1\n",
    "\n",
    "df = pd.concat([df1, df2], ignore_index=True)\n",
    "df[\"new\"]= pd.Series(range(df[\"first\"].fillna(0).count() ))\n",
    "\n",
    "\n",
    "#adding a new column based on column value\n",
    "def is_even(val):\n",
    "    return val%2==0\n",
    "\n",
    "df['even'] = df['new'].apply(is_even)\n",
    "\n",
    "print(df)"
   ]
  },
  {
   "cell_type": "code",
   "execution_count": null,
   "metadata": {},
   "outputs": [],
   "source": [
    "#drop rows\n",
    "df.drop([1,2])  #returns a new df\n",
    "df\n",
    "#alternate version that access indexlabels\n",
    "df.drop(df.index[1:4:2])"
   ]
  },
  {
   "cell_type": "code",
   "execution_count": null,
   "metadata": {},
   "outputs": [],
   "source": [
    "#Deleting Columns\n",
    "# we can use either syntax. These happen in place\n",
    "del df[\"even\"]\n",
    "df.drop([\"even\"] , axis=1)  #It DOES NOT operate in place\n",
    "#drop is the preferred way"
   ]
  },
  {
   "cell_type": "code",
   "execution_count": null,
   "metadata": {},
   "outputs": [],
   "source": [
    "df.columns"
   ]
  },
  {
   "cell_type": "code",
   "execution_count": null,
   "metadata": {
    "ExecuteTime": {
     "end_time": "2020-04-04T05:17:35.290466Z",
     "start_time": "2020-04-04T05:17:35.273477Z"
    }
   },
   "outputs": [],
   "source": [
    "data = StringIO('''UPC,Units,Sales,Date\n",
    "... 1234,5,20.2,1-1-2014\n",
    "... 1234,2,8.,1-2-2014\n",
    "... 1234,3,13.,1-3-2014\n",
    "... 789,1,2.,1-1-2014\n",
    "... 789,2,3.8,1-2-2014\n",
    "... 789,,,1-3-2014\n",
    "... 789,1,1.8,1-5-2014''')"
   ]
  },
  {
   "cell_type": "code",
   "execution_count": null,
   "metadata": {
    "ExecuteTime": {
     "end_time": "2020-04-04T05:21:23.316426Z",
     "start_time": "2020-04-04T05:21:23.308431Z"
    }
   },
   "outputs": [],
   "source": [
    "sales = pd.read_csv(\"input.csv\")"
   ]
  },
  {
   "cell_type": "code",
   "execution_count": null,
   "metadata": {
    "ExecuteTime": {
     "end_time": "2020-04-04T05:21:46.498876Z",
     "start_time": "2020-04-04T05:21:46.492883Z"
    }
   },
   "outputs": [],
   "source": [
    "sales.axes"
   ]
  },
  {
   "cell_type": "code",
   "execution_count": null,
   "metadata": {
    "ExecuteTime": {
     "end_time": "2020-04-04T05:22:14.018047Z",
     "start_time": "2020-04-04T05:22:13.997529Z"
    }
   },
   "outputs": [],
   "source": [
    "sales.columns"
   ]
  },
  {
   "cell_type": "code",
   "execution_count": null,
   "metadata": {
    "ExecuteTime": {
     "end_time": "2020-04-04T05:22:49.337963Z",
     "start_time": "2020-04-04T05:22:49.240020Z"
    }
   },
   "outputs": [],
   "source": [
    "sales[\"UPC\"].unique()"
   ]
  },
  {
   "cell_type": "code",
   "execution_count": null,
   "metadata": {
    "ExecuteTime": {
     "end_time": "2020-04-04T05:23:58.165811Z",
     "start_time": "2020-04-04T05:23:58.160817Z"
    }
   },
   "outputs": [],
   "source": [
    "sales.shape"
   ]
  },
  {
   "cell_type": "code",
   "execution_count": null,
   "metadata": {},
   "outputs": [],
   "source": [
    "#information about dataframe columns and types and memory usage\n",
    "sales.info()"
   ]
  },
  {
   "cell_type": "code",
   "execution_count": null,
   "metadata": {},
   "outputs": [],
   "source": [
    "#Default iteration is over column names. This can also be done via .keys\n",
    "for col in sales:\n",
    "    print(col)\n",
    "\n",
    "for col in sales.keys():\n",
    "    print(col)\n",
    "    \n",
    "# to check if a column is present in column list\n",
    "print ('UPC' in sales)"
   ]
  },
  {
   "cell_type": "code",
   "execution_count": null,
   "metadata": {},
   "outputs": [],
   "source": [
    "#The .iteritems method returns pairs of column names and the individual column\n",
    "\n",
    "for col, ser in sales.iteritems():\n",
    "    #print(col, ser)\n",
    "    pass\n",
    "    \n",
    "for row in sales.iterrows():\n",
    "    #print(row)  \n",
    "    pass\n",
    "\n",
    "len(sales)  # no. of rows"
   ]
  },
  {
   "cell_type": "code",
   "execution_count": null,
   "metadata": {},
   "outputs": [],
   "source": [
    "#Adding scalar to dataframe\n",
    "sales[['Sales', 'Units']] + 10"
   ]
  },
  {
   "cell_type": "code",
   "execution_count": null,
   "metadata": {},
   "outputs": [],
   "source": [
    "sales.T"
   ]
  },
  {
   "cell_type": "code",
   "execution_count": null,
   "metadata": {},
   "outputs": [],
   "source": [
    "sales.to_numpy()  #if we want to convert dataframe to numpy array"
   ]
  },
  {
   "cell_type": "code",
   "execution_count": null,
   "metadata": {},
   "outputs": [],
   "source": [
    "#To add an incrementing integer index to a data frame\n",
    "sales.reset_index()\n",
    "\n",
    "#to index based on existing column. This will replace index column with the new column and this column will be removed\n",
    "by_date = sales.set_index('Date')"
   ]
  },
  {
   "cell_type": "code",
   "execution_count": null,
   "metadata": {},
   "outputs": [],
   "source": [
    "by_date.reset_index()  # to put the column back into dataframe"
   ]
  },
  {
   "cell_type": "code",
   "execution_count": null,
   "metadata": {},
   "outputs": [],
   "source": [
    "# to get value from df using row index and column name\n",
    "sales.at[0, 'Date']  \n",
    "\n",
    "# if we want to refer with index only; use sales.columns to know the column index\n",
    "sales.iat[0, 1]  "
   ]
  },
  {
   "cell_type": "code",
   "execution_count": null,
   "metadata": {},
   "outputs": [],
   "source": [
    "# to set value in df using row index and column name\n",
    "sales.at[0,'Sales'] =9993\n",
    "\n",
    "# if we want to refer with index only; use sales.columns to know the column index\n",
    "sales.iat[0,1] =999 "
   ]
  },
  {
   "cell_type": "code",
   "execution_count": null,
   "metadata": {},
   "outputs": [],
   "source": [
    "# to insert a column in desired position. Here last argument could be series\n",
    "sales.insert(1, 'Category', 'Food')\n",
    "\n",
    "# if we want to add at the end, we could use assignment\n",
    "sales[\"newcolumn\"] = \"newvalue\""
   ]
  },
  {
   "cell_type": "code",
   "execution_count": null,
   "metadata": {},
   "outputs": [],
   "source": [
    "# if we want to replace a value in data frame with new value for all columns\n",
    "sales.replace(789,790)\n",
    "\n",
    "#if we want replace a value only in  particular column\n",
    "sales.replace({'UPC': {789: 790}, 'Sales': {2.0: 1.4}})"
   ]
  },
  {
   "cell_type": "code",
   "execution_count": null,
   "metadata": {},
   "outputs": [],
   "source": [
    "# to delete a column. it will NOT do it in place\n",
    "sales.drop(['Category', 'newcolumn'], axis=1)\n",
    "\n",
    "# if we have fewer columns to retain, use reindex\n",
    "cols=[\"UPC\", \"Date\"]\n",
    "sales.reindex(columns = cols)"
   ]
  },
  {
   "cell_type": "code",
   "execution_count": null,
   "metadata": {},
   "outputs": [],
   "source": [
    "# to get head and tail of 5 rows\n",
    "sales.tail()\n",
    "\n",
    "# to get just 1 row\n",
    "sales.head(1)"
   ]
  },
  {
   "cell_type": "code",
   "execution_count": null,
   "metadata": {},
   "outputs": [],
   "source": [
    "#to get rows based on index\n",
    "sales.iloc[2:4]\n",
    "\n",
    "#we can also use row and column together\n",
    "sales.iloc[2:4, 1:3]\n",
    "\n",
    "#we can also get it based on index name \n",
    "sales.loc[0:3]  # in this case, the index is also numeric\n",
    "\n",
    "sales.loc[2:, 'Units']\n",
    "\n",
    "# sales\n"
   ]
  },
  {
   "cell_type": "code",
   "execution_count": null,
   "metadata": {},
   "outputs": [],
   "source": [
    "# to sort values. DONT use sort method which does in place sort, we can also provide multiple column list\n",
    "sales.sort_values('UPC', ascending=False)\n",
    "# to sort index,\n",
    "\n",
    "sales.sort_index(ascending=False)"
   ]
  },
  {
   "cell_type": "code",
   "execution_count": null,
   "metadata": {},
   "outputs": [],
   "source": [
    "snow = pd.read_csv(\"f:\\\\others\\\\avalanche.csv\")"
   ]
  },
  {
   "cell_type": "code",
   "execution_count": 104,
   "metadata": {},
   "outputs": [
    {
     "name": "stdout",
     "output_type": "stream",
     "text": [
      "<class 'pandas.core.frame.DataFrame'>\n",
      "RangeIndex: 10 entries, 0 to 9\n",
      "Data columns (total 3 columns):\n",
      "year        10 non-null int64\n",
      "inches      10 non-null float64\n",
      "location    10 non-null object\n",
      "dtypes: float64(1), int64(1), object(1)\n",
      "memory usage: 368.0+ bytes\n"
     ]
    },
    {
     "data": {
      "text/html": [
       "<div>\n",
       "<style scoped>\n",
       "    .dataframe tbody tr th:only-of-type {\n",
       "        vertical-align: middle;\n",
       "    }\n",
       "\n",
       "    .dataframe tbody tr th {\n",
       "        vertical-align: top;\n",
       "    }\n",
       "\n",
       "    .dataframe thead th {\n",
       "        text-align: right;\n",
       "    }\n",
       "</style>\n",
       "<table border=\"1\" class=\"dataframe\">\n",
       "  <thead>\n",
       "    <tr style=\"text-align: right;\">\n",
       "      <th></th>\n",
       "      <th>year</th>\n",
       "      <th>inches</th>\n",
       "    </tr>\n",
       "  </thead>\n",
       "  <tbody>\n",
       "    <tr>\n",
       "      <td>count</td>\n",
       "      <td>10.00000</td>\n",
       "      <td>10.000000</td>\n",
       "    </tr>\n",
       "    <tr>\n",
       "      <td>mean</td>\n",
       "      <td>2010.50000</td>\n",
       "      <td>454.150000</td>\n",
       "    </tr>\n",
       "    <tr>\n",
       "      <td>std</td>\n",
       "      <td>3.02765</td>\n",
       "      <td>138.357036</td>\n",
       "    </tr>\n",
       "    <tr>\n",
       "      <td>min</td>\n",
       "      <td>2006.00000</td>\n",
       "      <td>267.500000</td>\n",
       "    </tr>\n",
       "    <tr>\n",
       "      <td>25%</td>\n",
       "      <td>2008.25000</td>\n",
       "      <td>356.375000</td>\n",
       "    </tr>\n",
       "    <tr>\n",
       "      <td>50%</td>\n",
       "      <td>2010.50000</td>\n",
       "      <td>406.250000</td>\n",
       "    </tr>\n",
       "    <tr>\n",
       "      <td>75%</td>\n",
       "      <td>2012.75000</td>\n",
       "      <td>571.750000</td>\n",
       "    </tr>\n",
       "    <tr>\n",
       "      <td>max</td>\n",
       "      <td>2015.00000</td>\n",
       "      <td>654.000000</td>\n",
       "    </tr>\n",
       "  </tbody>\n",
       "</table>\n",
       "</div>"
      ],
      "text/plain": [
       "             year      inches\n",
       "count    10.00000   10.000000\n",
       "mean   2010.50000  454.150000\n",
       "std       3.02765  138.357036\n",
       "min    2006.00000  267.500000\n",
       "25%    2008.25000  356.375000\n",
       "50%    2010.50000  406.250000\n",
       "75%    2012.75000  571.750000\n",
       "max    2015.00000  654.000000"
      ]
     },
     "execution_count": 104,
     "metadata": {},
     "output_type": "execute_result"
    }
   ],
   "source": [
    "snow.info()\n",
    "snow.describe()"
   ]
  },
  {
   "cell_type": "code",
   "execution_count": null,
   "metadata": {},
   "outputs": [],
   "source": [
    "snow.head(3)"
   ]
  },
  {
   "cell_type": "code",
   "execution_count": null,
   "metadata": {},
   "outputs": [],
   "source": [
    "print(\"min, max \",snow[\"year\"].min(),snow[\"year\"].max(), snow[\"year\"].quantile())"
   ]
  },
  {
   "cell_type": "code",
   "execution_count": null,
   "metadata": {},
   "outputs": [],
   "source": [
    "snow.quantile([0.1,0.9])"
   ]
  },
  {
   "cell_type": "code",
   "execution_count": null,
   "metadata": {},
   "outputs": [],
   "source": [
    "snow[['inches']].clip(lower=400, upper=600)"
   ]
  },
  {
   "cell_type": "code",
   "execution_count": 97,
   "metadata": {},
   "outputs": [
    {
     "data": {
      "text/html": [
       "<div>\n",
       "<style scoped>\n",
       "    .dataframe tbody tr th:only-of-type {\n",
       "        vertical-align: middle;\n",
       "    }\n",
       "\n",
       "    .dataframe tbody tr th {\n",
       "        vertical-align: top;\n",
       "    }\n",
       "\n",
       "    .dataframe thead th {\n",
       "        text-align: right;\n",
       "    }\n",
       "</style>\n",
       "<table border=\"1\" class=\"dataframe\">\n",
       "  <thead>\n",
       "    <tr style=\"text-align: right;\">\n",
       "      <th></th>\n",
       "      <th>year</th>\n",
       "      <th>inches</th>\n",
       "    </tr>\n",
       "  </thead>\n",
       "  <tbody>\n",
       "    <tr>\n",
       "      <td>year</td>\n",
       "      <td>1.000000</td>\n",
       "      <td>-0.698064</td>\n",
       "    </tr>\n",
       "    <tr>\n",
       "      <td>inches</td>\n",
       "      <td>-0.698064</td>\n",
       "      <td>1.000000</td>\n",
       "    </tr>\n",
       "  </tbody>\n",
       "</table>\n",
       "</div>"
      ],
      "text/plain": [
       "            year    inches\n",
       "year    1.000000 -0.698064\n",
       "inches -0.698064  1.000000"
      ]
     },
     "execution_count": 97,
     "metadata": {},
     "output_type": "execute_result"
    }
   ],
   "source": [
    "snow.corr()"
   ]
  },
  {
   "cell_type": "code",
   "execution_count": 98,
   "metadata": {},
   "outputs": [
    {
     "data": {
      "text/html": [
       "<div>\n",
       "<style scoped>\n",
       "    .dataframe tbody tr th:only-of-type {\n",
       "        vertical-align: middle;\n",
       "    }\n",
       "\n",
       "    .dataframe tbody tr th {\n",
       "        vertical-align: top;\n",
       "    }\n",
       "\n",
       "    .dataframe thead th {\n",
       "        text-align: right;\n",
       "    }\n",
       "</style>\n",
       "<table border=\"1\" class=\"dataframe\">\n",
       "  <thead>\n",
       "    <tr style=\"text-align: right;\">\n",
       "      <th></th>\n",
       "      <th>year</th>\n",
       "      <th>inches</th>\n",
       "    </tr>\n",
       "  </thead>\n",
       "  <tbody>\n",
       "    <tr>\n",
       "      <td>year</td>\n",
       "      <td>9.166667</td>\n",
       "      <td>-292.416667</td>\n",
       "    </tr>\n",
       "    <tr>\n",
       "      <td>inches</td>\n",
       "      <td>-292.416667</td>\n",
       "      <td>19142.669444</td>\n",
       "    </tr>\n",
       "  </tbody>\n",
       "</table>\n",
       "</div>"
      ],
      "text/plain": [
       "              year        inches\n",
       "year      9.166667   -292.416667\n",
       "inches -292.416667  19142.669444"
      ]
     },
     "execution_count": 98,
     "metadata": {},
     "output_type": "execute_result"
    }
   ],
   "source": [
    "snow.cov()"
   ]
  },
  {
   "cell_type": "code",
   "execution_count": 101,
   "metadata": {},
   "outputs": [
    {
     "data": {
      "text/plain": [
       "year      20105.0\n",
       "inches     4541.5\n",
       "dtype: float64"
      ]
     },
     "execution_count": 101,
     "metadata": {},
     "output_type": "execute_result"
    }
   ],
   "source": [
    "snow.sum(numeric_only=True)"
   ]
  },
  {
   "cell_type": "code",
   "execution_count": 102,
   "metadata": {},
   "outputs": [
    {
     "data": {
      "text/plain": [
       "year      0.000000\n",
       "inches    0.311866\n",
       "dtype: float64"
      ]
     },
     "execution_count": 102,
     "metadata": {},
     "output_type": "execute_result"
    }
   ],
   "source": [
    "snow.skew()"
   ]
  },
  {
   "cell_type": "code",
   "execution_count": 103,
   "metadata": {},
   "outputs": [
    {
     "data": {
      "text/plain": [
       "year      9\n",
       "inches    2\n",
       "dtype: int64"
      ]
     },
     "execution_count": 103,
     "metadata": {},
     "output_type": "execute_result"
    }
   ],
   "source": [
    "snow[['year', 'inches']].idxmax()"
   ]
  },
  {
   "cell_type": "code",
   "execution_count": 107,
   "metadata": {},
   "outputs": [
    {
     "ename": "ValueError",
     "evalue": "hist method requires numerical columns, nothing to plot.",
     "output_type": "error",
     "traceback": [
      "\u001b[1;31m---------------------------------------------------------------------------\u001b[0m",
      "\u001b[1;31mValueError\u001b[0m                                Traceback (most recent call last)",
      "\u001b[1;32m<ipython-input-107-bf792215be05>\u001b[0m in \u001b[0;36m<module>\u001b[1;34m\u001b[0m\n\u001b[1;32m----> 1\u001b[1;33m \u001b[0msnow\u001b[0m\u001b[1;33m.\u001b[0m\u001b[0mT\u001b[0m\u001b[1;33m.\u001b[0m\u001b[0mhist\u001b[0m\u001b[1;33m(\u001b[0m\u001b[1;33m)\u001b[0m\u001b[1;33m\u001b[0m\u001b[1;33m\u001b[0m\u001b[0m\n\u001b[0m",
      "\u001b[1;32mF:\\bits\\Anaconda3\\lib\\site-packages\\pandas\\plotting\\_core.py\u001b[0m in \u001b[0;36mhist_frame\u001b[1;34m(data, column, by, grid, xlabelsize, xrot, ylabelsize, yrot, ax, sharex, sharey, figsize, layout, bins, **kwds)\u001b[0m\n\u001b[0;32m    197\u001b[0m         \u001b[0mlayout\u001b[0m\u001b[1;33m=\u001b[0m\u001b[0mlayout\u001b[0m\u001b[1;33m,\u001b[0m\u001b[1;33m\u001b[0m\u001b[1;33m\u001b[0m\u001b[0m\n\u001b[0;32m    198\u001b[0m         \u001b[0mbins\u001b[0m\u001b[1;33m=\u001b[0m\u001b[0mbins\u001b[0m\u001b[1;33m,\u001b[0m\u001b[1;33m\u001b[0m\u001b[1;33m\u001b[0m\u001b[0m\n\u001b[1;32m--> 199\u001b[1;33m         \u001b[1;33m**\u001b[0m\u001b[0mkwds\u001b[0m\u001b[1;33m\u001b[0m\u001b[1;33m\u001b[0m\u001b[0m\n\u001b[0m\u001b[0;32m    200\u001b[0m     )\n\u001b[0;32m    201\u001b[0m \u001b[1;33m\u001b[0m\u001b[0m\n",
      "\u001b[1;32mF:\\bits\\Anaconda3\\lib\\site-packages\\pandas\\plotting\\_matplotlib\\hist.py\u001b[0m in \u001b[0;36mhist_frame\u001b[1;34m(data, column, by, grid, xlabelsize, xrot, ylabelsize, yrot, ax, sharex, sharey, figsize, layout, bins, **kwds)\u001b[0m\n\u001b[0;32m    395\u001b[0m \u001b[1;33m\u001b[0m\u001b[0m\n\u001b[0;32m    396\u001b[0m     \u001b[1;32mif\u001b[0m \u001b[0mnaxes\u001b[0m \u001b[1;33m==\u001b[0m \u001b[1;36m0\u001b[0m\u001b[1;33m:\u001b[0m\u001b[1;33m\u001b[0m\u001b[1;33m\u001b[0m\u001b[0m\n\u001b[1;32m--> 397\u001b[1;33m         \u001b[1;32mraise\u001b[0m \u001b[0mValueError\u001b[0m\u001b[1;33m(\u001b[0m\u001b[1;34m\"hist method requires numerical columns, \"\u001b[0m \u001b[1;34m\"nothing to plot.\"\u001b[0m\u001b[1;33m)\u001b[0m\u001b[1;33m\u001b[0m\u001b[1;33m\u001b[0m\u001b[0m\n\u001b[0m\u001b[0;32m    398\u001b[0m \u001b[1;33m\u001b[0m\u001b[0m\n\u001b[0;32m    399\u001b[0m     fig, axes = _subplots(\n",
      "\u001b[1;31mValueError\u001b[0m: hist method requires numerical columns, nothing to plot."
     ]
    }
   ],
   "source": [
    "snow.hist()"
   ]
  },
  {
   "cell_type": "code",
   "execution_count": 110,
   "metadata": {},
   "outputs": [
    {
     "data": {
      "image/png": "[encoded data removed]",
      "text/plain": [
       "<Figure size 720x576 with 1 Axes>"
      ]
     },
     "metadata": {},
     "output_type": "display_data"
    }
   ],
   "source": [
    "import matplotlib.pyplot as plt\n",
    "import seaborn as sns\n",
    "\n",
    "%matplotlib inline\n",
    "\n",
    "sns.set(style=\"whitegrid\")\n",
    "plt.figure(figsize=(10,8))\n",
    "ax = sns.boxplot(x='inches', data=snow, orient=\"v\")"
   ]
  },
  {
   "cell_type": "code",
   "execution_count": 111,
   "metadata": {},
   "outputs": [],
   "source": [
    "scores = pd.DataFrame({\n",
    "'name':['Adam', 'Bob', 'Dave', 'Fred'],\n",
    "'age': [15, 16, 16, 15],\n",
    "'test1': [95, 81, 89, None],\n",
    "'test2': [80, 82, 84, 88],\n",
    "'teacher': ['Ashby', 'Ashby', 'Jones', 'Jones']})"
   ]
  },
  {
   "cell_type": "code",
   "execution_count": 116,
   "metadata": {},
   "outputs": [
    {
     "data": {
      "text/html": [
       "<div>\n",
       "<style scoped>\n",
       "    .dataframe tbody tr th:only-of-type {\n",
       "        vertical-align: middle;\n",
       "    }\n",
       "\n",
       "    .dataframe tbody tr th {\n",
       "        vertical-align: top;\n",
       "    }\n",
       "\n",
       "    .dataframe thead th {\n",
       "        text-align: right;\n",
       "    }\n",
       "</style>\n",
       "<table border=\"1\" class=\"dataframe\">\n",
       "  <thead>\n",
       "    <tr style=\"text-align: right;\">\n",
       "      <th></th>\n",
       "      <th>age</th>\n",
       "      <th>test1</th>\n",
       "      <th>test2</th>\n",
       "    </tr>\n",
       "    <tr>\n",
       "      <th>teacher</th>\n",
       "      <th></th>\n",
       "      <th></th>\n",
       "      <th></th>\n",
       "    </tr>\n",
       "  </thead>\n",
       "  <tbody>\n",
       "    <tr>\n",
       "      <td>Ashby</td>\n",
       "      <td>15.5</td>\n",
       "      <td>88.0</td>\n",
       "      <td>81.0</td>\n",
       "    </tr>\n",
       "    <tr>\n",
       "      <td>Jones</td>\n",
       "      <td>15.5</td>\n",
       "      <td>89.0</td>\n",
       "      <td>86.0</td>\n",
       "    </tr>\n",
       "  </tbody>\n",
       "</table>\n",
       "</div>"
      ],
      "text/plain": [
       "          age  test1  test2\n",
       "teacher                    \n",
       "Ashby    15.5   88.0   81.0\n",
       "Jones    15.5   89.0   86.0"
      ]
     },
     "execution_count": 116,
     "metadata": {},
     "output_type": "execute_result"
    }
   ],
   "source": [
    "scores.groupby('teacher').mean()"
   ]
  },
  {
   "cell_type": "code",
   "execution_count": 114,
   "metadata": {},
   "outputs": [
    {
     "data": {
      "text/html": [
       "<div>\n",
       "<style scoped>\n",
       "    .dataframe tbody tr th:only-of-type {\n",
       "        vertical-align: middle;\n",
       "    }\n",
       "\n",
       "    .dataframe tbody tr th {\n",
       "        vertical-align: top;\n",
       "    }\n",
       "\n",
       "    .dataframe thead th {\n",
       "        text-align: right;\n",
       "    }\n",
       "</style>\n",
       "<table border=\"1\" class=\"dataframe\">\n",
       "  <thead>\n",
       "    <tr style=\"text-align: right;\">\n",
       "      <th></th>\n",
       "      <th></th>\n",
       "      <th>test1</th>\n",
       "      <th>test2</th>\n",
       "    </tr>\n",
       "    <tr>\n",
       "      <th>teacher</th>\n",
       "      <th>age</th>\n",
       "      <th></th>\n",
       "      <th></th>\n",
       "    </tr>\n",
       "  </thead>\n",
       "  <tbody>\n",
       "    <tr>\n",
       "      <td rowspan=\"2\" valign=\"top\">Ashby</td>\n",
       "      <td>15</td>\n",
       "      <td>95.0</td>\n",
       "      <td>80</td>\n",
       "    </tr>\n",
       "    <tr>\n",
       "      <td>16</td>\n",
       "      <td>81.0</td>\n",
       "      <td>82</td>\n",
       "    </tr>\n",
       "    <tr>\n",
       "      <td rowspan=\"2\" valign=\"top\">Jones</td>\n",
       "      <td>15</td>\n",
       "      <td>0.0</td>\n",
       "      <td>88</td>\n",
       "    </tr>\n",
       "    <tr>\n",
       "      <td>16</td>\n",
       "      <td>89.0</td>\n",
       "      <td>84</td>\n",
       "    </tr>\n",
       "  </tbody>\n",
       "</table>\n",
       "</div>"
      ],
      "text/plain": [
       "             test1  test2\n",
       "teacher age              \n",
       "Ashby   15    95.0     80\n",
       "        16    81.0     82\n",
       "Jones   15     0.0     88\n",
       "        16    89.0     84"
      ]
     },
     "execution_count": 114,
     "metadata": {},
     "output_type": "execute_result"
    }
   ],
   "source": [
    "scores.groupby(['teacher', 'age']).sum()"
   ]
  },
  {
   "cell_type": "code",
   "execution_count": 117,
   "metadata": {},
   "outputs": [
    {
     "data": {
      "text/html": [
       "<div>\n",
       "<style scoped>\n",
       "    .dataframe tbody tr th:only-of-type {\n",
       "        vertical-align: middle;\n",
       "    }\n",
       "\n",
       "    .dataframe tbody tr th {\n",
       "        vertical-align: top;\n",
       "    }\n",
       "\n",
       "    .dataframe thead th {\n",
       "        text-align: right;\n",
       "    }\n",
       "</style>\n",
       "<table border=\"1\" class=\"dataframe\">\n",
       "  <thead>\n",
       "    <tr style=\"text-align: right;\">\n",
       "      <th></th>\n",
       "      <th>name</th>\n",
       "      <th>test1</th>\n",
       "      <th>test2</th>\n",
       "      <th>teacher</th>\n",
       "      <th>age_15</th>\n",
       "      <th>age_16</th>\n",
       "    </tr>\n",
       "  </thead>\n",
       "  <tbody>\n",
       "    <tr>\n",
       "      <td>0</td>\n",
       "      <td>Adam</td>\n",
       "      <td>95.0</td>\n",
       "      <td>80</td>\n",
       "      <td>Ashby</td>\n",
       "      <td>1</td>\n",
       "      <td>0</td>\n",
       "    </tr>\n",
       "    <tr>\n",
       "      <td>1</td>\n",
       "      <td>Bob</td>\n",
       "      <td>81.0</td>\n",
       "      <td>82</td>\n",
       "      <td>Ashby</td>\n",
       "      <td>0</td>\n",
       "      <td>1</td>\n",
       "    </tr>\n",
       "    <tr>\n",
       "      <td>2</td>\n",
       "      <td>Dave</td>\n",
       "      <td>89.0</td>\n",
       "      <td>84</td>\n",
       "      <td>Jones</td>\n",
       "      <td>0</td>\n",
       "      <td>1</td>\n",
       "    </tr>\n",
       "    <tr>\n",
       "      <td>3</td>\n",
       "      <td>Fred</td>\n",
       "      <td>NaN</td>\n",
       "      <td>88</td>\n",
       "      <td>Jones</td>\n",
       "      <td>1</td>\n",
       "      <td>0</td>\n",
       "    </tr>\n",
       "  </tbody>\n",
       "</table>\n",
       "</div>"
      ],
      "text/plain": [
       "   name  test1  test2 teacher  age_15  age_16\n",
       "0  Adam   95.0     80   Ashby       1       0\n",
       "1   Bob   81.0     82   Ashby       0       1\n",
       "2  Dave   89.0     84   Jones       0       1\n",
       "3  Fred    NaN     88   Jones       1       0"
      ]
     },
     "execution_count": 117,
     "metadata": {},
     "output_type": "execute_result"
    }
   ],
   "source": [
    "#creating dummy variables\n",
    "pd.get_dummies(scores, columns=['age'], prefix='age')"
   ]
  },
  {
   "cell_type": "code",
   "execution_count": 120,
   "metadata": {},
   "outputs": [],
   "source": [
    "df = pd.read_table(\"f:\\\\others\\\\nameagecolor.tsv\", sep=\"|\")"
   ]
  },
  {
   "cell_type": "code",
   "execution_count": 121,
   "metadata": {},
   "outputs": [
    {
     "data": {
      "text/html": [
       "<div>\n",
       "<style scoped>\n",
       "    .dataframe tbody tr th:only-of-type {\n",
       "        vertical-align: middle;\n",
       "    }\n",
       "\n",
       "    .dataframe tbody tr th {\n",
       "        vertical-align: top;\n",
       "    }\n",
       "\n",
       "    .dataframe thead th {\n",
       "        text-align: right;\n",
       "    }\n",
       "</style>\n",
       "<table border=\"1\" class=\"dataframe\">\n",
       "  <thead>\n",
       "    <tr style=\"text-align: right;\">\n",
       "      <th></th>\n",
       "      <th>Name</th>\n",
       "      <th>Age</th>\n",
       "      <th>Color</th>\n",
       "    </tr>\n",
       "  </thead>\n",
       "  <tbody>\n",
       "    <tr>\n",
       "      <td>0</td>\n",
       "      <td>False</td>\n",
       "      <td>False</td>\n",
       "      <td>False</td>\n",
       "    </tr>\n",
       "    <tr>\n",
       "      <td>1</td>\n",
       "      <td>False</td>\n",
       "      <td>False</td>\n",
       "      <td>False</td>\n",
       "    </tr>\n",
       "    <tr>\n",
       "      <td>2</td>\n",
       "      <td>False</td>\n",
       "      <td>False</td>\n",
       "      <td>True</td>\n",
       "    </tr>\n",
       "    <tr>\n",
       "      <td>3</td>\n",
       "      <td>False</td>\n",
       "      <td>True</td>\n",
       "      <td>False</td>\n",
       "    </tr>\n",
       "  </tbody>\n",
       "</table>\n",
       "</div>"
      ],
      "text/plain": [
       "    Name    Age  Color\n",
       "0  False  False  False\n",
       "1  False  False  False\n",
       "2  False  False   True\n",
       "3  False   True  False"
      ]
     },
     "execution_count": 121,
     "metadata": {},
     "output_type": "execute_result"
    }
   ],
   "source": [
    "df.isnull()"
   ]
  },
  {
   "cell_type": "code",
   "execution_count": 122,
   "metadata": {},
   "outputs": [
    {
     "data": {
      "text/html": [
       "<div>\n",
       "<style scoped>\n",
       "    .dataframe tbody tr th:only-of-type {\n",
       "        vertical-align: middle;\n",
       "    }\n",
       "\n",
       "    .dataframe tbody tr th {\n",
       "        vertical-align: top;\n",
       "    }\n",
       "\n",
       "    .dataframe thead th {\n",
       "        text-align: right;\n",
       "    }\n",
       "</style>\n",
       "<table border=\"1\" class=\"dataframe\">\n",
       "  <thead>\n",
       "    <tr style=\"text-align: right;\">\n",
       "      <th></th>\n",
       "      <th>Name</th>\n",
       "      <th>Age</th>\n",
       "      <th>Color</th>\n",
       "    </tr>\n",
       "  </thead>\n",
       "  <tbody>\n",
       "    <tr>\n",
       "      <td>0</td>\n",
       "      <td>Fred</td>\n",
       "      <td>22.0</td>\n",
       "      <td>Red</td>\n",
       "    </tr>\n",
       "    <tr>\n",
       "      <td>1</td>\n",
       "      <td>Sally</td>\n",
       "      <td>29.0</td>\n",
       "      <td>Blue</td>\n",
       "    </tr>\n",
       "  </tbody>\n",
       "</table>\n",
       "</div>"
      ],
      "text/plain": [
       "    Name   Age Color\n",
       "0   Fred  22.0   Red\n",
       "1  Sally  29.0  Blue"
      ]
     },
     "execution_count": 122,
     "metadata": {},
     "output_type": "execute_result"
    }
   ],
   "source": [
    "df.dropna()"
   ]
  },
  {
   "cell_type": "code",
   "execution_count": 125,
   "metadata": {},
   "outputs": [
    {
     "data": {
      "text/html": [
       "<div>\n",
       "<style scoped>\n",
       "    .dataframe tbody tr th:only-of-type {\n",
       "        vertical-align: middle;\n",
       "    }\n",
       "\n",
       "    .dataframe tbody tr th {\n",
       "        vertical-align: top;\n",
       "    }\n",
       "\n",
       "    .dataframe thead th {\n",
       "        text-align: right;\n",
       "    }\n",
       "</style>\n",
       "<table border=\"1\" class=\"dataframe\">\n",
       "  <thead>\n",
       "    <tr style=\"text-align: right;\">\n",
       "      <th></th>\n",
       "      <th>Name</th>\n",
       "      <th>Age</th>\n",
       "      <th>Color</th>\n",
       "    </tr>\n",
       "  </thead>\n",
       "  <tbody>\n",
       "    <tr>\n",
       "      <td>0</td>\n",
       "      <td>Fred</td>\n",
       "      <td>22.0</td>\n",
       "      <td>Red</td>\n",
       "    </tr>\n",
       "    <tr>\n",
       "      <td>1</td>\n",
       "      <td>Sally</td>\n",
       "      <td>29.0</td>\n",
       "      <td>Blue</td>\n",
       "    </tr>\n",
       "    <tr>\n",
       "      <td>2</td>\n",
       "      <td>George</td>\n",
       "      <td>24.0</td>\n",
       "      <td>Pink</td>\n",
       "    </tr>\n",
       "    <tr>\n",
       "      <td>3</td>\n",
       "      <td>Fido</td>\n",
       "      <td>24.0</td>\n",
       "      <td>Black</td>\n",
       "    </tr>\n",
       "  </tbody>\n",
       "</table>\n",
       "</div>"
      ],
      "text/plain": [
       "     Name   Age  Color\n",
       "0    Fred  22.0    Red\n",
       "1   Sally  29.0   Blue\n",
       "2  George  24.0   Pink\n",
       "3    Fido  24.0  Black"
      ]
     },
     "execution_count": 125,
     "metadata": {},
     "output_type": "execute_result"
    }
   ],
   "source": [
    "df.fillna({'Age': df.Age.median(),\n",
    "'Color': 'Pink'})"
   ]
  },
  {
   "cell_type": "code",
   "execution_count": 127,
   "metadata": {},
   "outputs": [
    {
     "data": {
      "text/html": [
       "<div>\n",
       "<style scoped>\n",
       "    .dataframe tbody tr th:only-of-type {\n",
       "        vertical-align: middle;\n",
       "    }\n",
       "\n",
       "    .dataframe tbody tr th {\n",
       "        vertical-align: top;\n",
       "    }\n",
       "\n",
       "    .dataframe thead th {\n",
       "        text-align: right;\n",
       "    }\n",
       "</style>\n",
       "<table border=\"1\" class=\"dataframe\">\n",
       "  <thead>\n",
       "    <tr style=\"text-align: right;\">\n",
       "      <th></th>\n",
       "      <th>Name</th>\n",
       "      <th>Age</th>\n",
       "      <th>Color</th>\n",
       "    </tr>\n",
       "  </thead>\n",
       "  <tbody>\n",
       "    <tr>\n",
       "      <td>0</td>\n",
       "      <td>Fred</td>\n",
       "      <td>22.0</td>\n",
       "      <td>Red</td>\n",
       "    </tr>\n",
       "    <tr>\n",
       "      <td>1</td>\n",
       "      <td>Sally</td>\n",
       "      <td>29.0</td>\n",
       "      <td>Blue</td>\n",
       "    </tr>\n",
       "    <tr>\n",
       "      <td>2</td>\n",
       "      <td>George</td>\n",
       "      <td>24.0</td>\n",
       "      <td>NaN</td>\n",
       "    </tr>\n",
       "    <tr>\n",
       "      <td>3</td>\n",
       "      <td>Fido</td>\n",
       "      <td>24.0</td>\n",
       "      <td>Black</td>\n",
       "    </tr>\n",
       "  </tbody>\n",
       "</table>\n",
       "</div>"
      ],
      "text/plain": [
       "     Name   Age  Color\n",
       "0    Fred  22.0    Red\n",
       "1   Sally  29.0   Blue\n",
       "2  George  24.0    NaN\n",
       "3    Fido  24.0  Black"
      ]
     },
     "execution_count": 127,
     "metadata": {},
     "output_type": "execute_result"
    }
   ],
   "source": [
    "df.interpolate()  #fills missing values"
   ]
  },
  {
   "cell_type": "code",
   "execution_count": 130,
   "metadata": {},
   "outputs": [
    {
     "data": {
      "text/html": [
       "<div>\n",
       "<style scoped>\n",
       "    .dataframe tbody tr th:only-of-type {\n",
       "        vertical-align: middle;\n",
       "    }\n",
       "\n",
       "    .dataframe tbody tr th {\n",
       "        vertical-align: top;\n",
       "    }\n",
       "\n",
       "    .dataframe thead th {\n",
       "        text-align: right;\n",
       "    }\n",
       "</style>\n",
       "<table border=\"1\" class=\"dataframe\">\n",
       "  <thead>\n",
       "    <tr style=\"text-align: right;\">\n",
       "      <th></th>\n",
       "      <th>index</th>\n",
       "      <th>name</th>\n",
       "      <th>color</th>\n",
       "      <th>carcolor</th>\n",
       "    </tr>\n",
       "  </thead>\n",
       "  <tbody>\n",
       "    <tr>\n",
       "      <td>0</td>\n",
       "      <td>0</td>\n",
       "      <td>John</td>\n",
       "      <td>Blue</td>\n",
       "      <td>NaN</td>\n",
       "    </tr>\n",
       "    <tr>\n",
       "      <td>1</td>\n",
       "      <td>1</td>\n",
       "      <td>George</td>\n",
       "      <td>Blue</td>\n",
       "      <td>NaN</td>\n",
       "    </tr>\n",
       "    <tr>\n",
       "      <td>2</td>\n",
       "      <td>2</td>\n",
       "      <td>Ringo</td>\n",
       "      <td>Purple</td>\n",
       "      <td>NaN</td>\n",
       "    </tr>\n",
       "    <tr>\n",
       "      <td>3</td>\n",
       "      <td>3</td>\n",
       "      <td>Paul</td>\n",
       "      <td>NaN</td>\n",
       "      <td>Red</td>\n",
       "    </tr>\n",
       "    <tr>\n",
       "      <td>4</td>\n",
       "      <td>1</td>\n",
       "      <td>George</td>\n",
       "      <td>NaN</td>\n",
       "      <td>Blue</td>\n",
       "    </tr>\n",
       "    <tr>\n",
       "      <td>5</td>\n",
       "      <td>2</td>\n",
       "      <td>Ringo</td>\n",
       "      <td>NaN</td>\n",
       "      <td>NaN</td>\n",
       "    </tr>\n",
       "  </tbody>\n",
       "</table>\n",
       "</div>"
      ],
      "text/plain": [
       "   index    name   color carcolor\n",
       "0      0    John    Blue      NaN\n",
       "1      1  George    Blue      NaN\n",
       "2      2   Ringo  Purple      NaN\n",
       "3      3    Paul     NaN      Red\n",
       "4      1  George     NaN     Blue\n",
       "5      2   Ringo     NaN      NaN"
      ]
     },
     "execution_count": 130,
     "metadata": {},
     "output_type": "execute_result"
    }
   ],
   "source": [
    "df1 = pd.DataFrame({'name': ['John', 'George', 'Ringo'], 'color': ['Blue', 'Blue', 'Purple']})\n",
    "df2 = pd.DataFrame({'name': ['Paul', 'George', 'Ringo'], 'carcolor': ['Red', 'Blue', np.nan]},index=[3, 1, 2])\n",
    "pd.concat([df1, df2], sort=False).reset_index()"
   ]
  },
  {
   "cell_type": "code",
   "execution_count": 135,
   "metadata": {},
   "outputs": [
    {
     "data": {
      "text/plain": [
       "(4, 3)"
      ]
     },
     "execution_count": 135,
     "metadata": {},
     "output_type": "execute_result"
    }
   ],
   "source": [
    "df.dtypes\n",
    "df.shape"
   ]
  },
  {
   "cell_type": "code",
   "execution_count": 131,
   "metadata": {},
   "outputs": [
    {
     "data": {
      "text/html": [
       "<div>\n",
       "<style scoped>\n",
       "    .dataframe tbody tr th:only-of-type {\n",
       "        vertical-align: middle;\n",
       "    }\n",
       "\n",
       "    .dataframe tbody tr th {\n",
       "        vertical-align: top;\n",
       "    }\n",
       "\n",
       "    .dataframe thead th {\n",
       "        text-align: right;\n",
       "    }\n",
       "</style>\n",
       "<table border=\"1\" class=\"dataframe\">\n",
       "  <thead>\n",
       "    <tr style=\"text-align: right;\">\n",
       "      <th></th>\n",
       "      <th>name</th>\n",
       "      <th>color</th>\n",
       "      <th>name</th>\n",
       "      <th>carcolor</th>\n",
       "    </tr>\n",
       "  </thead>\n",
       "  <tbody>\n",
       "    <tr>\n",
       "      <td>0</td>\n",
       "      <td>John</td>\n",
       "      <td>Blue</td>\n",
       "      <td>NaN</td>\n",
       "      <td>NaN</td>\n",
       "    </tr>\n",
       "    <tr>\n",
       "      <td>1</td>\n",
       "      <td>George</td>\n",
       "      <td>Blue</td>\n",
       "      <td>George</td>\n",
       "      <td>Blue</td>\n",
       "    </tr>\n",
       "    <tr>\n",
       "      <td>2</td>\n",
       "      <td>Ringo</td>\n",
       "      <td>Purple</td>\n",
       "      <td>Ringo</td>\n",
       "      <td>NaN</td>\n",
       "    </tr>\n",
       "    <tr>\n",
       "      <td>3</td>\n",
       "      <td>NaN</td>\n",
       "      <td>NaN</td>\n",
       "      <td>Paul</td>\n",
       "      <td>Red</td>\n",
       "    </tr>\n",
       "  </tbody>\n",
       "</table>\n",
       "</div>"
      ],
      "text/plain": [
       "     name   color    name carcolor\n",
       "0    John    Blue     NaN      NaN\n",
       "1  George    Blue  George     Blue\n",
       "2   Ringo  Purple   Ringo      NaN\n",
       "3     NaN     NaN    Paul      Red"
      ]
     },
     "execution_count": 131,
     "metadata": {},
     "output_type": "execute_result"
    }
   ],
   "source": [
    "pd.concat([df1, df2], axis=1)  #adding columns to df"
   ]
  },
  {
   "cell_type": "code",
   "execution_count": 133,
   "metadata": {},
   "outputs": [
    {
     "data": {
      "text/html": [
       "<div>\n",
       "<style scoped>\n",
       "    .dataframe tbody tr th:only-of-type {\n",
       "        vertical-align: middle;\n",
       "    }\n",
       "\n",
       "    .dataframe tbody tr th {\n",
       "        vertical-align: top;\n",
       "    }\n",
       "\n",
       "    .dataframe thead th {\n",
       "        text-align: right;\n",
       "    }\n",
       "</style>\n",
       "<table border=\"1\" class=\"dataframe\">\n",
       "  <thead>\n",
       "    <tr style=\"text-align: right;\">\n",
       "      <th></th>\n",
       "      <th>name</th>\n",
       "      <th>color</th>\n",
       "      <th>carcolor</th>\n",
       "    </tr>\n",
       "  </thead>\n",
       "  <tbody>\n",
       "    <tr>\n",
       "      <td>0</td>\n",
       "      <td>John</td>\n",
       "      <td>Blue</td>\n",
       "      <td>NaN</td>\n",
       "    </tr>\n",
       "    <tr>\n",
       "      <td>1</td>\n",
       "      <td>George</td>\n",
       "      <td>Blue</td>\n",
       "      <td>Blue</td>\n",
       "    </tr>\n",
       "    <tr>\n",
       "      <td>2</td>\n",
       "      <td>Ringo</td>\n",
       "      <td>Purple</td>\n",
       "      <td>NaN</td>\n",
       "    </tr>\n",
       "    <tr>\n",
       "      <td>3</td>\n",
       "      <td>Paul</td>\n",
       "      <td>NaN</td>\n",
       "      <td>Red</td>\n",
       "    </tr>\n",
       "  </tbody>\n",
       "</table>\n",
       "</div>"
      ],
      "text/plain": [
       "     name   color carcolor\n",
       "0    John    Blue      NaN\n",
       "1  George    Blue     Blue\n",
       "2   Ringo  Purple      NaN\n",
       "3    Paul     NaN      Red"
      ]
     },
     "execution_count": 133,
     "metadata": {},
     "output_type": "execute_result"
    }
   ],
   "source": [
    "df1.merge(df2, how='outer')  #Here how could be left, right as well\n",
    "# we can also mention column names on which join should happen\n",
    "# on, left_on, right_on "
   ]
  },
  {
   "cell_type": "code",
   "execution_count": null,
   "metadata": {},
   "outputs": [],
   "source": [
    "#replace column names\n",
    "\n",
    "df = df.rename(columns={x:x.replace(':', '') for x in df.columns})"
   ]
  },
  {
   "cell_type": "code",
   "execution_count": null,
   "metadata": {},
   "outputs": [],
   "source": [
    "df['depth_inches'] = df.Depth.apply(to_inches)  #create a new column based on other value"
   ]
  },
  {
   "cell_type": "code",
   "execution_count": null,
   "metadata": {},
   "outputs": [],
   "source": [
    "df['vert'] = pd.to_numeric(df.Vertical, errors='coerce')\n",
    "df['dow'] = df['Occurrence Date'].apply( lambda x: x.split(',')[0])\n",
    "df.dow.value_counts()\n",
    "df['lat'] = df.lat.replace(0, float('nan'))\n",
    "ava95 = df[df.year >= 1995]"
   ]
  }
 ],
 "metadata": {
  "kernelspec": {
   "display_name": "Python 3",
   "language": "python",
   "name": "python3"
  },
  "language_info": {
   "codemirror_mode": {
    "name": "ipython",
    "version": 3
   },
   "file_extension": ".py",
   "mimetype": "text/x-python",
   "name": "python",
   "nbconvert_exporter": "python",
   "pygments_lexer": "ipython3",
   "version": "3.7.4"
  },
  "toc": {
   "base_numbering": 1,
   "nav_menu": {},
   "number_sections": true,
   "sideBar": true,
   "skip_h1_title": false,
   "title_cell": "Table of Contents",
   "title_sidebar": "Contents",
   "toc_cell": false,
   "toc_position": {
    "height": "calc(100% - 180px)",
    "left": "10px",
    "top": "150px",
    "width": "273.188px"
   },
   "toc_section_display": true,
   "toc_window_display": false
  },
  "varInspector": {
   "cols": {
    "lenName": 16,
    "lenType": 16,
    "lenVar": 40
   },
   "kernels_config": {
    "python": {
     "delete_cmd_postfix": "",
     "delete_cmd_prefix": "del ",
     "library": "var_list.py",
     "varRefreshCmd": "print(var_dic_list())"
    },
    "r": {
     "delete_cmd_postfix": ") ",
     "delete_cmd_prefix": "rm(",
     "library": "var_list.r",
     "varRefreshCmd": "cat(var_dic_list()) "
    }
   },
   "position": {
    "height": "131px",
    "left": "869px",
    "right": "20px",
    "top": "-4px",
    "width": "493px"
   },
   "types_to_exclude": [
    "module",
    "function",
    "builtin_function_or_method",
    "instance",
    "_Feature"
   ],
   "window_display": false
  }
 },
 "nbformat": 4,
 "nbformat_minor": 2
}
